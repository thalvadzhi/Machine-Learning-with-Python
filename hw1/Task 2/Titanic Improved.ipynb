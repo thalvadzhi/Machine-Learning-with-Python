{
 "cells": [
  {
   "cell_type": "code",
   "execution_count": 107,
   "metadata": {
    "collapsed": true
   },
   "outputs": [],
   "source": [
    "import numpy as np\n",
    "import matplotlib.pyplot as plt\n",
    "import pandas as pd\n",
    "import seaborn as sns\n",
    "import mglearn\n",
    "from sklearn.pipeline import make_union, make_pipeline\n",
    "\n",
    "from IPython.display import display\n",
    "\n",
    "%matplotlib inline"
   ]
  },
  {
   "cell_type": "code",
   "execution_count": 17,
   "metadata": {
    "collapsed": true
   },
   "outputs": [],
   "source": [
    "train = pd.read_csv('titanic/train.csv', index_col='PassengerId')\n",
    "test = pd.read_csv('titanic/test.csv', index_col='PassengerId')"
   ]
  },
  {
   "cell_type": "code",
   "execution_count": 18,
   "metadata": {
    "collapsed": false
   },
   "outputs": [
    {
     "name": "stdout",
     "output_type": "stream",
     "text": [
      "(891, 11)\n",
      "(418, 10)\n"
     ]
    }
   ],
   "source": [
    "print(train.shape)\n",
    "print(test.shape)"
   ]
  },
  {
   "cell_type": "markdown",
   "metadata": {},
   "source": [
    "За титлите използвам кода от лекциите."
   ]
  },
  {
   "cell_type": "code",
   "execution_count": 55,
   "metadata": {
    "collapsed": true
   },
   "outputs": [],
   "source": [
    "def extract_titles(data_in):\n",
    "    data = data_in.copy()\n",
    "    data['Title'] = data.Name.str.extract('([A-Za-z]+)\\.', expand=False)\n",
    "    data.loc[data.Title == 'Mlle', 'Title'] = 'Miss'\n",
    "    data.loc[data.Title == 'Mme', 'Title']  = 'Mrs'\n",
    "    data.loc[data.Title == 'Ms', 'Title']   = 'Miss'\n",
    "\n",
    "    rare_titles = ['Dr', 'Rev', 'Col', 'Major', 'Countess', 'Don', 'Jonkheer', 'Capt', 'Lady', 'Sir']\n",
    "    data.Title = data.Title.replace(rare_titles, 'Rare')\n",
    "    return data"
   ]
  },
  {
   "cell_type": "markdown",
   "metadata": {},
   "source": [
    "За възрастите също."
   ]
  },
  {
   "cell_type": "code",
   "execution_count": 54,
   "metadata": {
    "collapsed": true
   },
   "outputs": [],
   "source": [
    "def fill_ages_by_title(data_in):\n",
    "    data = data_in.copy()\n",
    "    age_by_title = data.groupby('Title').Age.mean()\n",
    "    data.loc[data.Age.isnull() & (data.Title == 'Mr'), 'Age'] = age_by_title['Mr']\n",
    "    data.loc[data.Age.isnull() & (data.Title == 'Mrs'), 'Age'] = age_by_title['Mrs']\n",
    "    data.loc[data.Age.isnull() & (data.Title == 'Miss'), 'Age'] = age_by_title['Miss']\n",
    "    data.loc[data.Age.isnull() & (data.Title == 'Master'), 'Age'] = age_by_title['Master']\n",
    "    data.loc[data.Age.isnull() & (data.Title == 'Rare'), 'Age'] = age_by_title['Rare']\n",
    "    return data"
   ]
  },
  {
   "cell_type": "markdown",
   "metadata": {},
   "source": [
    "Запълвам embarked с S, както на лекцията."
   ]
  },
  {
   "cell_type": "code",
   "execution_count": 56,
   "metadata": {
    "collapsed": true
   },
   "outputs": [],
   "source": [
    "def fill_embarked(data_in):\n",
    "    data = data_in.copy()\n",
    "    data.Embarked = data.Embarked.fillna('S')\n",
    "    return data"
   ]
  },
  {
   "cell_type": "code",
   "execution_count": 57,
   "metadata": {
    "collapsed": true
   },
   "outputs": [],
   "source": [
    "def fill_fare(data_in):\n",
    "    data = data_in.copy()\n",
    "    data.Fare = data.Fare.fillna(data.Fare.mean())\n",
    "    return data"
   ]
  },
  {
   "cell_type": "markdown",
   "metadata": {},
   "source": [
    "След малко ровене в интернет установих, че първата буква от кабината означава палубата. Тъй като палубите са на различни нива в кораба, това може да окаже влияние върху крайния резултат. Където няма въведена кабина пиша N."
   ]
  },
  {
   "cell_type": "code",
   "execution_count": 79,
   "metadata": {
    "collapsed": true
   },
   "outputs": [],
   "source": [
    "def add_decks(data_in):\n",
    "    data = data_in.copy()\n",
    "    data[\"deck\"] = data.Cabin.str[0]\n",
    "    data[\"deck\"] = data.deck.fillna(\"N\")\n",
    "    return data"
   ]
  },
  {
   "cell_type": "code",
   "execution_count": 63,
   "metadata": {
    "collapsed": false
   },
   "outputs": [
    {
     "data": {
      "image/png": "[encoded data removed]",
      "text/plain": [
       "<matplotlib.figure.Figure at 0x7f2dc42c97f0>"
      ]
     },
     "metadata": {},
     "output_type": "display_data"
    }
   ],
   "source": [
    "train_with_deck = add_decks(train)\n",
    "sns.countplot('deck', hue='Survived', data=train_with_deck);"
   ]
  },
  {
   "cell_type": "markdown",
   "metadata": {},
   "source": [
    "Повечето информация за кабината липсва. Разпределението на оцелелите е силно наклонено към неоцелели при липсващите палуби, докато във всички останали случаи броя на оцелелите е по-голям. Изглежда ако не си от палуба N, C, A, G шанса ти да оцелееш се вдига."
   ]
  },
  {
   "cell_type": "markdown",
   "metadata": {},
   "source": [
    "Резултата малко се подобрява като се разбие размера на семейството на малко и голямо семейство."
   ]
  },
  {
   "cell_type": "code",
   "execution_count": 59,
   "metadata": {
    "collapsed": true
   },
   "outputs": [],
   "source": [
    "def bin_family(data_in):\n",
    "    data = data_in.copy()\n",
    "    family_size = data['Parch'] + data['SibSp'] + 1\n",
    "    data['family_size_one'] = family_size == 1\n",
    "    data['family_size_small'] = ((2 <= family_size) & (family_size <= 4))\n",
    "    data['family_size_big'] = 5 <= family_size\n",
    "    return data"
   ]
  },
  {
   "cell_type": "markdown",
   "metadata": {},
   "source": [
    "Голямо влияние върху резултата оказа разделянето на вързастта. След известно натъкмяване избрах [0, 18, 36, 48, 60, 81] за кофи"
   ]
  },
  {
   "cell_type": "code",
   "execution_count": 60,
   "metadata": {
    "collapsed": true
   },
   "outputs": [],
   "source": [
    "def bin_age(data_in):\n",
    "    data = data_in.copy()\n",
    "    data[\"Age\"] = pd.cut(data.Age, bins=[0, 18, 36, 48, 60, 81], labels=[0, 1, 2, 3, 4])\n",
    "    age_dummied = pd.get_dummies(data[\"Age\"], prefix=\"Age\")\n",
    "    data.drop(\"Age\", axis=1, inplace=True)\n",
    "    data = pd.concat([data, age_dummied], axis=1)\n",
    "    return data"
   ]
  },
  {
   "cell_type": "markdown",
   "metadata": {},
   "source": [
    "Извличам буквите от началото на билета като фийчър.\n",
    "\n",
    "Не знам какво точно означават те, но реших да пробвам дали ще окажат влияние върху резултата."
   ]
  },
  {
   "cell_type": "code",
   "execution_count": 70,
   "metadata": {
    "collapsed": true
   },
   "outputs": [],
   "source": [
    "def add_ticket_code(data_in):\n",
    "    data = data_in.copy()\n",
    "    data[\"ticket_code\"] = data.Ticket.str.replace(\"[0-9]|[/., ]\", \"\")\n",
    "    data.ticket_code = data.ticket_code.fillna(\"NONE\")\n",
    "    return data"
   ]
  },
  {
   "cell_type": "code",
   "execution_count": 74,
   "metadata": {
    "collapsed": false
   },
   "outputs": [
    {
     "data": {
      "image/png": "[encoded data removed]",
      "text/plain": [
       "<matplotlib.figure.Figure at 0x7f2dbb5d00f0>"
      ]
     },
     "metadata": {},
     "output_type": "display_data"
    }
   ],
   "source": [
    "train_with_ticket = add_ticket_code(train)\n",
    "ax = sns.countplot('ticket_code', hue='Survived', data=train_with_ticket);\n",
    "_ = ax.set_xticklabels(ax.get_xticklabels(), rotation=90)"
   ]
  },
  {
   "cell_type": "markdown",
   "metadata": {},
   "source": [
    "Ако билета ти има код А, CA, SOTONOQ, имаш голям шанс да умреш. Докато ако има код PC шанса да оцелееш е по-голям. За повечето примери няма стойност, но все пак кода може да помогне."
   ]
  },
  {
   "cell_type": "code",
   "execution_count": 252,
   "metadata": {
    "collapsed": true
   },
   "outputs": [],
   "source": [
    "def engineer_data(data_in):\n",
    "    data = fill_embarked(data_in)\n",
    "    data = fill_fare(data)\n",
    "    data = extract_titles(data)\n",
    "    data = add_decks(data)\n",
    "    data = add_ticket_code(data)\n",
    "    data = fill_ages_by_title(data)\n",
    "    data = bin_family(data)\n",
    "    data = bin_age(data)\n",
    "    data = data.drop([\"Cabin\", \"Ticket\", \"Name\", 'SibSp', 'Parch'], axis=1)\n",
    "    data = pd.get_dummies(data)\n",
    "    return data"
   ]
  },
  {
   "cell_type": "markdown",
   "metadata": {},
   "source": [
    "Използвам pd.get_dummies за one hot encode-ване на нужните фийчъри."
   ]
  },
  {
   "cell_type": "code",
   "execution_count": 119,
   "metadata": {
    "collapsed": false
   },
   "outputs": [
    {
     "data": {
      "text/html": [
       "<div>\n",
       "<style>\n",
       "    .dataframe thead tr:only-child th {\n",
       "        text-align: right;\n",
       "    }\n",
       "\n",
       "    .dataframe thead th {\n",
       "        text-align: left;\n",
       "    }\n",
       "\n",
       "    .dataframe tbody tr th {\n",
       "        vertical-align: top;\n",
       "    }\n",
       "</style>\n",
       "<table border=\"1\" class=\"dataframe\">\n",
       "  <thead>\n",
       "    <tr style=\"text-align: right;\">\n",
       "      <th></th>\n",
       "      <th>Survived</th>\n",
       "      <th>Pclass</th>\n",
       "      <th>Sex</th>\n",
       "      <th>Fare</th>\n",
       "      <th>Embarked</th>\n",
       "      <th>Title</th>\n",
       "      <th>deck</th>\n",
       "      <th>ticket_code</th>\n",
       "      <th>family_size_one</th>\n",
       "      <th>family_size_small</th>\n",
       "      <th>family_size_big</th>\n",
       "      <th>Age_0</th>\n",
       "      <th>Age_1</th>\n",
       "      <th>Age_2</th>\n",
       "      <th>Age_3</th>\n",
       "      <th>Age_4</th>\n",
       "    </tr>\n",
       "    <tr>\n",
       "      <th>PassengerId</th>\n",
       "      <th></th>\n",
       "      <th></th>\n",
       "      <th></th>\n",
       "      <th></th>\n",
       "      <th></th>\n",
       "      <th></th>\n",
       "      <th></th>\n",
       "      <th></th>\n",
       "      <th></th>\n",
       "      <th></th>\n",
       "      <th></th>\n",
       "      <th></th>\n",
       "      <th></th>\n",
       "      <th></th>\n",
       "      <th></th>\n",
       "      <th></th>\n",
       "    </tr>\n",
       "  </thead>\n",
       "  <tbody>\n",
       "    <tr>\n",
       "      <th>1</th>\n",
       "      <td>0</td>\n",
       "      <td>3</td>\n",
       "      <td>male</td>\n",
       "      <td>7.2500</td>\n",
       "      <td>S</td>\n",
       "      <td>Mr</td>\n",
       "      <td>N</td>\n",
       "      <td>A</td>\n",
       "      <td>False</td>\n",
       "      <td>True</td>\n",
       "      <td>False</td>\n",
       "      <td>0</td>\n",
       "      <td>1</td>\n",
       "      <td>0</td>\n",
       "      <td>0</td>\n",
       "      <td>0</td>\n",
       "    </tr>\n",
       "    <tr>\n",
       "      <th>2</th>\n",
       "      <td>1</td>\n",
       "      <td>1</td>\n",
       "      <td>female</td>\n",
       "      <td>71.2833</td>\n",
       "      <td>C</td>\n",
       "      <td>Mrs</td>\n",
       "      <td>C</td>\n",
       "      <td>PC</td>\n",
       "      <td>False</td>\n",
       "      <td>True</td>\n",
       "      <td>False</td>\n",
       "      <td>0</td>\n",
       "      <td>0</td>\n",
       "      <td>1</td>\n",
       "      <td>0</td>\n",
       "      <td>0</td>\n",
       "    </tr>\n",
       "    <tr>\n",
       "      <th>3</th>\n",
       "      <td>1</td>\n",
       "      <td>3</td>\n",
       "      <td>female</td>\n",
       "      <td>7.9250</td>\n",
       "      <td>S</td>\n",
       "      <td>Miss</td>\n",
       "      <td>N</td>\n",
       "      <td>STONO</td>\n",
       "      <td>True</td>\n",
       "      <td>False</td>\n",
       "      <td>False</td>\n",
       "      <td>0</td>\n",
       "      <td>1</td>\n",
       "      <td>0</td>\n",
       "      <td>0</td>\n",
       "      <td>0</td>\n",
       "    </tr>\n",
       "    <tr>\n",
       "      <th>4</th>\n",
       "      <td>1</td>\n",
       "      <td>1</td>\n",
       "      <td>female</td>\n",
       "      <td>53.1000</td>\n",
       "      <td>S</td>\n",
       "      <td>Mrs</td>\n",
       "      <td>C</td>\n",
       "      <td></td>\n",
       "      <td>False</td>\n",
       "      <td>True</td>\n",
       "      <td>False</td>\n",
       "      <td>0</td>\n",
       "      <td>1</td>\n",
       "      <td>0</td>\n",
       "      <td>0</td>\n",
       "      <td>0</td>\n",
       "    </tr>\n",
       "    <tr>\n",
       "      <th>5</th>\n",
       "      <td>0</td>\n",
       "      <td>3</td>\n",
       "      <td>male</td>\n",
       "      <td>8.0500</td>\n",
       "      <td>S</td>\n",
       "      <td>Mr</td>\n",
       "      <td>N</td>\n",
       "      <td></td>\n",
       "      <td>True</td>\n",
       "      <td>False</td>\n",
       "      <td>False</td>\n",
       "      <td>0</td>\n",
       "      <td>1</td>\n",
       "      <td>0</td>\n",
       "      <td>0</td>\n",
       "      <td>0</td>\n",
       "    </tr>\n",
       "  </tbody>\n",
       "</table>\n",
       "</div>"
      ],
      "text/plain": [
       "             Survived  Pclass     Sex     Fare Embarked Title deck  \\\n",
       "PassengerId                                                          \n",
       "1                   0       3    male   7.2500        S    Mr    N   \n",
       "2                   1       1  female  71.2833        C   Mrs    C   \n",
       "3                   1       3  female   7.9250        S  Miss    N   \n",
       "4                   1       1  female  53.1000        S   Mrs    C   \n",
       "5                   0       3    male   8.0500        S    Mr    N   \n",
       "\n",
       "            ticket_code  family_size_one  family_size_small  family_size_big  \\\n",
       "PassengerId                                                                    \n",
       "1                     A            False               True            False   \n",
       "2                    PC            False               True            False   \n",
       "3                 STONO             True              False            False   \n",
       "4                                  False               True            False   \n",
       "5                                   True              False            False   \n",
       "\n",
       "             Age_0  Age_1  Age_2  Age_3  Age_4  \n",
       "PassengerId                                     \n",
       "1                0      1      0      0      0  \n",
       "2                0      0      1      0      0  \n",
       "3                0      1      0      0      0  \n",
       "4                0      1      0      0      0  \n",
       "5                0      1      0      0      0  "
      ]
     },
     "execution_count": 119,
     "metadata": {},
     "output_type": "execute_result"
    }
   ],
   "source": [
    "train_engineered.head()"
   ]
  },
  {
   "cell_type": "code",
   "execution_count": 271,
   "metadata": {
    "collapsed": false
   },
   "outputs": [],
   "source": [
    "train_engineered = engineer_data(train)\n",
    "test_engineered = engineer_data(test)"
   ]
  },
  {
   "cell_type": "code",
   "execution_count": 272,
   "metadata": {
    "collapsed": true
   },
   "outputs": [],
   "source": [
    "X = train_engineered.drop(\"Survived\", axis=1)\n",
    "y = train_engineered[\"Survived\"]"
   ]
  },
  {
   "cell_type": "code",
   "execution_count": 351,
   "metadata": {
    "collapsed": false
   },
   "outputs": [
    {
     "name": "stdout",
     "output_type": "stream",
     "text": [
      "[ 0.76094276  0.82154882  0.78787879]\n"
     ]
    }
   ],
   "source": [
    "from sklearn.model_selection import train_test_split\n",
    "from sklearn.ensemble import RandomForestClassifier\n",
    "model_rf = RandomForestClassifier(random_state=0)\n",
    "print(cross_val_score(model_rf, X, y, cv=StratifiedKFold()))"
   ]
  },
  {
   "cell_type": "markdown",
   "metadata": {},
   "source": [
    "Да видим какви са важностите на различните фийчъри според random forest."
   ]
  },
  {
   "cell_type": "code",
   "execution_count": 288,
   "metadata": {
    "collapsed": false
   },
   "outputs": [
    {
     "data": {
      "image/png": "[encoded data removed]",
      "text/plain": [
       "<matplotlib.figure.Figure at 0x7f2db3eec278>"
      ]
     },
     "metadata": {},
     "output_type": "display_data"
    }
   ],
   "source": [
    "importances = model_rf.feature_importances_\n",
    "indices = np.argsort(importances)[::-1]\n",
    "std = np.std([tree.feature_importances_ for tree in model_rf.estimators_],\n",
    "             axis=0)\n",
    "plt.figure(figsize=(15, 8))\n",
    "plt.title(\"Feature importances\")\n",
    "plt.bar(range(len(indices)), importances[indices],\n",
    "       color=\"r\", align=\"center\")\n",
    "plt.xticks(range(len(indices)), X_train.columns, rotation=90)\n",
    "plt.xlim([-1, X_train.shape[1]])\n",
    "plt.show()"
   ]
  },
  {
   "cell_type": "markdown",
   "metadata": {},
   "source": [
    "Както се очаква Pclass и fare имат най-голям принос. Палубите и билетите все пак имат ненулев принос."
   ]
  },
  {
   "cell_type": "markdown",
   "metadata": {},
   "source": [
    "Да пуснем grid search."
   ]
  },
  {
   "cell_type": "code",
   "execution_count": 340,
   "metadata": {
    "collapsed": false
   },
   "outputs": [
    {
     "data": {
      "text/html": [
       "<div>\n",
       "<style>\n",
       "    .dataframe thead tr:only-child th {\n",
       "        text-align: right;\n",
       "    }\n",
       "\n",
       "    .dataframe thead th {\n",
       "        text-align: left;\n",
       "    }\n",
       "\n",
       "    .dataframe tbody tr th {\n",
       "        vertical-align: top;\n",
       "    }\n",
       "</style>\n",
       "<table border=\"1\" class=\"dataframe\">\n",
       "  <thead>\n",
       "    <tr style=\"text-align: right;\">\n",
       "      <th></th>\n",
       "      <th>rank_test_score</th>\n",
       "      <th>mean_test_score</th>\n",
       "      <th>params</th>\n",
       "    </tr>\n",
       "  </thead>\n",
       "  <tbody>\n",
       "    <tr>\n",
       "      <th>91</th>\n",
       "      <td>1</td>\n",
       "      <td>0.840629</td>\n",
       "      <td>{'max_depth': 20, 'min_samples_split': 10, 'n_estimators': 20}</td>\n",
       "    </tr>\n",
       "    <tr>\n",
       "      <th>93</th>\n",
       "      <td>2</td>\n",
       "      <td>0.839506</td>\n",
       "      <td>{'max_depth': 20, 'min_samples_split': 10, 'n_estimators': 40}</td>\n",
       "    </tr>\n",
       "    <tr>\n",
       "      <th>71</th>\n",
       "      <td>3</td>\n",
       "      <td>0.833895</td>\n",
       "      <td>{'max_depth': 15, 'min_samples_split': 10, 'n_estimators': 20}</td>\n",
       "    </tr>\n",
       "    <tr>\n",
       "      <th>94</th>\n",
       "      <td>4</td>\n",
       "      <td>0.832772</td>\n",
       "      <td>{'max_depth': 20, 'min_samples_split': 10, 'n_estimators': 50}</td>\n",
       "    </tr>\n",
       "    <tr>\n",
       "      <th>92</th>\n",
       "      <td>4</td>\n",
       "      <td>0.832772</td>\n",
       "      <td>{'max_depth': 20, 'min_samples_split': 10, 'n_estimators': 30}</td>\n",
       "    </tr>\n",
       "  </tbody>\n",
       "</table>\n",
       "</div>"
      ],
      "text/plain": [
       "    rank_test_score  mean_test_score  \\\n",
       "91                1         0.840629   \n",
       "93                2         0.839506   \n",
       "71                3         0.833895   \n",
       "94                4         0.832772   \n",
       "92                4         0.832772   \n",
       "\n",
       "                                                            params  \n",
       "91  {'max_depth': 20, 'min_samples_split': 10, 'n_estimators': 20}  \n",
       "93  {'max_depth': 20, 'min_samples_split': 10, 'n_estimators': 40}  \n",
       "71  {'max_depth': 15, 'min_samples_split': 10, 'n_estimators': 20}  \n",
       "94  {'max_depth': 20, 'min_samples_split': 10, 'n_estimators': 50}  \n",
       "92  {'max_depth': 20, 'min_samples_split': 10, 'n_estimators': 30}  "
      ]
     },
     "execution_count": 340,
     "metadata": {},
     "output_type": "execute_result"
    }
   ],
   "source": [
    "from sklearn.model_selection import StratifiedKFold\n",
    "from sklearn.model_selection import GridSearchCV\n",
    "\n",
    "forest_grid = {\n",
    "                 'max_depth' : [2, 5, 10, 15, 20],\n",
    "                 'n_estimators': [10, 20, 30, 40 ,50],\n",
    "                 'min_samples_split': [2, 5, 10, 20]\n",
    "                 }\n",
    "rf = RandomForestClassifier(random_state=0)\n",
    "grid = GridSearchCV(rf,\n",
    "                           scoring='accuracy',\n",
    "                           param_grid=forest_grid,\n",
    "                           cv=StratifiedKFold(),\n",
    "                           return_train_score=True)\n",
    "\n",
    "grid.fit(X, y)\n",
    "\n",
    "results_df = pd.DataFrame(grid.cv_results_)\n",
    "results_df[['rank_test_score', 'mean_test_score', 'params']].sort_values(by='rank_test_score').head(5)"
   ]
  },
  {
   "cell_type": "code",
   "execution_count": 352,
   "metadata": {
    "collapsed": false
   },
   "outputs": [
    {
     "name": "stdout",
     "output_type": "stream",
     "text": [
      "[ 0.82491582  0.86868687  0.82828283]\n"
     ]
    }
   ],
   "source": [
    "from sklearn.model_selection import train_test_split\n",
    "from sklearn.ensemble import RandomForestClassifier\n",
    "model_rf = RandomForestClassifier(random_state=0, \n",
    "                                  max_depth=20, min_samples_split=10, n_estimators=20)\n",
    "print(cross_val_score(model_rf, X, y, cv=StratifiedKFold()))"
   ]
  },
  {
   "cell_type": "markdown",
   "metadata": {},
   "source": [
    "Резултатите се подобриха. Да пробваме и с SVC."
   ]
  },
  {
   "cell_type": "markdown",
   "metadata": {},
   "source": [
    "Пробвам и с SVC"
   ]
  },
  {
   "cell_type": "code",
   "execution_count": 323,
   "metadata": {
    "collapsed": false
   },
   "outputs": [
    {
     "name": "stdout",
     "output_type": "stream",
     "text": [
      "[ 0.75084175  0.8013468   0.77441077]\n"
     ]
    }
   ],
   "source": [
    "from sklearn.svm import SVC\n",
    "model_svc = SVC()\n",
    "print(cross_val_score(model_svc, X, y, cv=StratifiedKFold()))"
   ]
  },
  {
   "cell_type": "code",
   "execution_count": 355,
   "metadata": {
    "collapsed": false
   },
   "outputs": [
    {
     "data": {
      "text/html": [
       "<div>\n",
       "<style>\n",
       "    .dataframe thead tr:only-child th {\n",
       "        text-align: right;\n",
       "    }\n",
       "\n",
       "    .dataframe thead th {\n",
       "        text-align: left;\n",
       "    }\n",
       "\n",
       "    .dataframe tbody tr th {\n",
       "        vertical-align: top;\n",
       "    }\n",
       "</style>\n",
       "<table border=\"1\" class=\"dataframe\">\n",
       "  <thead>\n",
       "    <tr style=\"text-align: right;\">\n",
       "      <th></th>\n",
       "      <th>rank_test_score</th>\n",
       "      <th>mean_test_score</th>\n",
       "      <th>params</th>\n",
       "    </tr>\n",
       "  </thead>\n",
       "  <tbody>\n",
       "    <tr>\n",
       "      <th>2</th>\n",
       "      <td>1</td>\n",
       "      <td>0.829405</td>\n",
       "      <td>{'C': 100000, 'gamma': 1e-05}</td>\n",
       "    </tr>\n",
       "    <tr>\n",
       "      <th>1</th>\n",
       "      <td>2</td>\n",
       "      <td>0.811448</td>\n",
       "      <td>{'C': 100, 'gamma': 0.01}</td>\n",
       "    </tr>\n",
       "    <tr>\n",
       "      <th>3</th>\n",
       "      <td>3</td>\n",
       "      <td>0.787879</td>\n",
       "      <td>{'C': 100000, 'gamma': 0.01}</td>\n",
       "    </tr>\n",
       "    <tr>\n",
       "      <th>0</th>\n",
       "      <td>4</td>\n",
       "      <td>0.689113</td>\n",
       "      <td>{'C': 100, 'gamma': 1e-05}</td>\n",
       "    </tr>\n",
       "  </tbody>\n",
       "</table>\n",
       "</div>"
      ],
      "text/plain": [
       "   rank_test_score  mean_test_score                         params\n",
       "2                1         0.829405  {'C': 100000, 'gamma': 1e-05}\n",
       "1                2         0.811448      {'C': 100, 'gamma': 0.01}\n",
       "3                3         0.787879   {'C': 100000, 'gamma': 0.01}\n",
       "0                4         0.689113     {'C': 100, 'gamma': 1e-05}"
      ]
     },
     "execution_count": 355,
     "metadata": {},
     "output_type": "execute_result"
    }
   ],
   "source": [
    "svc_grid = {\n",
    "                 'C' : [0.001, 0.01, 0.1, 1, 10, 100, 1000, 10000,100000],\n",
    "                 'gamma': [0.00001, 0.0001, 0.001, 0.01, 0.1, 1, 10, 100, 1000, 1000 ]\n",
    "                 }\n",
    "svc = SVC()\n",
    "grid = GridSearchCV(svc,\n",
    "                           scoring='accuracy',\n",
    "                           param_grid=svc_grid,\n",
    "                           cv=StratifiedKFold(),\n",
    "                           return_train_score=True)\n",
    "\n",
    "grid.fit(X, y)\n",
    "\n",
    "results_df = pd.DataFrame(grid.cv_results_)\n",
    "results_df[['rank_test_score', 'mean_test_score', 'params']].sort_values(by='rank_test_score').head(5)"
   ]
  },
  {
   "cell_type": "code",
   "execution_count": 357,
   "metadata": {
    "collapsed": false
   },
   "outputs": [
    {
     "name": "stdout",
     "output_type": "stream",
     "text": [
      "[ 0.81818182  0.82491582  0.83838384]\n"
     ]
    }
   ],
   "source": [
    "from sklearn.svm import SVC\n",
    "model_svc = SVC(C=100000, gamma=0.00001)\n",
    "print(cross_val_score(model_svc, X, y, cv=StratifiedKFold()))"
   ]
  },
  {
   "cell_type": "markdown",
   "metadata": {},
   "source": [
    "Справя се по-зле. Да видим и логистична регресия."
   ]
  },
  {
   "cell_type": "code",
   "execution_count": 358,
   "metadata": {
    "collapsed": false
   },
   "outputs": [
    {
     "name": "stdout",
     "output_type": "stream",
     "text": [
      "[ 0.81818182  0.82154882  0.84848485]\n"
     ]
    }
   ],
   "source": [
    "from sklearn.linear_model import LogisticRegression\n",
    "model_log_reg = LogisticRegression()\n",
    "print(cross_val_score(model_log_reg, X, y, cv=StratifiedKFold()))"
   ]
  },
  {
   "cell_type": "code",
   "execution_count": 360,
   "metadata": {
    "collapsed": false
   },
   "outputs": [
    {
     "data": {
      "text/html": [
       "<div>\n",
       "<style>\n",
       "    .dataframe thead tr:only-child th {\n",
       "        text-align: right;\n",
       "    }\n",
       "\n",
       "    .dataframe thead th {\n",
       "        text-align: left;\n",
       "    }\n",
       "\n",
       "    .dataframe tbody tr th {\n",
       "        vertical-align: top;\n",
       "    }\n",
       "</style>\n",
       "<table border=\"1\" class=\"dataframe\">\n",
       "  <thead>\n",
       "    <tr style=\"text-align: right;\">\n",
       "      <th></th>\n",
       "      <th>rank_test_score</th>\n",
       "      <th>mean_test_score</th>\n",
       "      <th>params</th>\n",
       "    </tr>\n",
       "  </thead>\n",
       "  <tbody>\n",
       "    <tr>\n",
       "      <th>3</th>\n",
       "      <td>1</td>\n",
       "      <td>0.829405</td>\n",
       "      <td>{'C': 1}</td>\n",
       "    </tr>\n",
       "    <tr>\n",
       "      <th>4</th>\n",
       "      <td>2</td>\n",
       "      <td>0.826038</td>\n",
       "      <td>{'C': 10}</td>\n",
       "    </tr>\n",
       "    <tr>\n",
       "      <th>5</th>\n",
       "      <td>2</td>\n",
       "      <td>0.826038</td>\n",
       "      <td>{'C': 100}</td>\n",
       "    </tr>\n",
       "    <tr>\n",
       "      <th>6</th>\n",
       "      <td>2</td>\n",
       "      <td>0.826038</td>\n",
       "      <td>{'C': 100}</td>\n",
       "    </tr>\n",
       "    <tr>\n",
       "      <th>2</th>\n",
       "      <td>5</td>\n",
       "      <td>0.822671</td>\n",
       "      <td>{'C': 0.1}</td>\n",
       "    </tr>\n",
       "  </tbody>\n",
       "</table>\n",
       "</div>"
      ],
      "text/plain": [
       "   rank_test_score  mean_test_score      params\n",
       "3                1         0.829405    {'C': 1}\n",
       "4                2         0.826038   {'C': 10}\n",
       "5                2         0.826038  {'C': 100}\n",
       "6                2         0.826038  {'C': 100}\n",
       "2                5         0.822671  {'C': 0.1}"
      ]
     },
     "execution_count": 360,
     "metadata": {},
     "output_type": "execute_result"
    }
   ],
   "source": [
    "log_reg_grid = {\n",
    "                 'C' : [0.001, 0.01, 0.1, 1, 10, 100, 100]\n",
    "                 }\n",
    "log_reg = LogisticRegression()\n",
    "grid = GridSearchCV(log_reg,\n",
    "                           scoring='accuracy',\n",
    "                           param_grid=log_reg_grid,\n",
    "                           cv=StratifiedKFold(),\n",
    "                           return_train_score=True)\n",
    "\n",
    "grid.fit(X, y)\n",
    "\n",
    "results_df = pd.DataFrame(grid.cv_results_)\n",
    "results_df[['rank_test_score', 'mean_test_score', 'params']].sort_values(by='rank_test_score').head(5)"
   ]
  },
  {
   "cell_type": "markdown",
   "metadata": {},
   "source": [
    "Най-добре се представя RandomForest. Все пак ще събмитна и с трите модела."
   ]
  },
  {
   "cell_type": "code",
   "execution_count": 269,
   "metadata": {
    "collapsed": false
   },
   "outputs": [
    {
     "data": {
      "text/plain": [
       "array(['Title_Dona', 'ticket_code_AQ', 'ticket_code_LP',\n",
       "       'ticket_code_STONOQ'], dtype=object)"
      ]
     },
     "execution_count": 269,
     "metadata": {},
     "output_type": "execute_result"
    }
   ],
   "source": [
    "np.setdiff1d(test_engineered.columns,X.columns )"
   ]
  },
  {
   "cell_type": "code",
   "execution_count": 289,
   "metadata": {
    "collapsed": false
   },
   "outputs": [
    {
     "data": {
      "text/plain": [
       "array(['deck_T', 'ticket_code_AS', 'ticket_code_CASOTON', 'ticket_code_Fa',\n",
       "       'ticket_code_LINE', 'ticket_code_PPP', 'ticket_code_SCAHBasle',\n",
       "       'ticket_code_SCOW', 'ticket_code_SOP', 'ticket_code_SP',\n",
       "       'ticket_code_SWPP'], dtype=object)"
      ]
     },
     "execution_count": 289,
     "metadata": {},
     "output_type": "execute_result"
    }
   ],
   "source": [
    "np.setdiff1d(X.columns, test_engineered.columns )"
   ]
  },
  {
   "cell_type": "markdown",
   "metadata": {},
   "source": [
    "Виждам, че има разлика в колоните за трейн и за тест затова първо добавям в train и в test колоните които липсват, със стойности 0."
   ]
  },
  {
   "cell_type": "code",
   "execution_count": 363,
   "metadata": {
    "collapsed": false
   },
   "outputs": [
    {
     "data": {
      "text/html": [
       "<div>\n",
       "<style>\n",
       "    .dataframe thead tr:only-child th {\n",
       "        text-align: right;\n",
       "    }\n",
       "\n",
       "    .dataframe thead th {\n",
       "        text-align: left;\n",
       "    }\n",
       "\n",
       "    .dataframe tbody tr th {\n",
       "        vertical-align: top;\n",
       "    }\n",
       "</style>\n",
       "<table border=\"1\" class=\"dataframe\">\n",
       "  <thead>\n",
       "    <tr style=\"text-align: right;\">\n",
       "      <th></th>\n",
       "      <th>Survived</th>\n",
       "    </tr>\n",
       "    <tr>\n",
       "      <th>PassengerId</th>\n",
       "      <th></th>\n",
       "    </tr>\n",
       "  </thead>\n",
       "  <tbody>\n",
       "    <tr>\n",
       "      <th>892</th>\n",
       "      <td>0</td>\n",
       "    </tr>\n",
       "    <tr>\n",
       "      <th>893</th>\n",
       "      <td>0</td>\n",
       "    </tr>\n",
       "    <tr>\n",
       "      <th>894</th>\n",
       "      <td>0</td>\n",
       "    </tr>\n",
       "    <tr>\n",
       "      <th>895</th>\n",
       "      <td>0</td>\n",
       "    </tr>\n",
       "    <tr>\n",
       "      <th>896</th>\n",
       "      <td>1</td>\n",
       "    </tr>\n",
       "  </tbody>\n",
       "</table>\n",
       "</div>"
      ],
      "text/plain": [
       "             Survived\n",
       "PassengerId          \n",
       "892                 0\n",
       "893                 0\n",
       "894                 0\n",
       "895                 0\n",
       "896                 1"
      ]
     },
     "execution_count": 363,
     "metadata": {},
     "output_type": "execute_result"
    }
   ],
   "source": [
    "col_to_add_test = np.setdiff1d(X.columns, test_engineered.columns)\n",
    "col_to_add_train = np.setdiff1d(test_engineered.columns, X.columns)\n",
    "submit_x_train = X.copy()\n",
    "submit_test= test_engineered.copy()\n",
    "for col in col_to_add_train:\n",
    "    submit_x_train[col] = 0\n",
    "    \n",
    "for col in col_to_add_test:\n",
    "    submit_test[col] = 0\n",
    "    \n",
    "submit_x_train = submit_x_train.reindex_axis(sorted(submit_x_train.columns), axis=1)\n",
    "submit_test = submit_test.reindex_axis(sorted(submit_test.columns), axis=1)\n",
    "\n",
    "model = RandomForestClassifier(random_state=0, \n",
    "                                  max_depth=20, min_samples_split=10, n_estimators=20)\n",
    "model.fit(submit_x_train, y)\n",
    "\n",
    "predictions = model.predict(submit_test)\n",
    "\n",
    "frame = pd.DataFrame({\n",
    "    'PassengerId': pd.read_csv('titanic/test.csv').PassengerId,\n",
    "    'Survived': predictions.astype(int)\n",
    "})\n",
    "frame = frame.set_index('PassengerId')\n",
    "frame.to_csv('~/Desktop/predictions_titanic.csv')\n",
    "frame.head()"
   ]
  },
  {
   "cell_type": "markdown",
   "metadata": {},
   "source": [
    "Резултата в kaggle е "
   ]
  },
  {
   "cell_type": "markdown",
   "metadata": {},
   "source": [
    "<img src=\"img/result_titanic.png\">"
   ]
  },
  {
   "cell_type": "markdown",
   "metadata": {},
   "source": [
    "Резултатите с другите два модела бяха значително по-слаби (от рода на 0.77....)"
   ]
  }
 ],
 "metadata": {
  "anaconda-cloud": {},
  "kernelspec": {
   "display_name": "Python [conda env:py36]",
   "language": "python",
   "name": "conda-env-py36-py"
  },
  "language_info": {
   "codemirror_mode": {
    "name": "ipython",
    "version": 3
   },
   "file_extension": ".py",
   "mimetype": "text/x-python",
   "name": "python",
   "nbconvert_exporter": "python",
   "pygments_lexer": "ipython3",
   "version": "3.6.3"
  }
 },
 "nbformat": 4,
 "nbformat_minor": 2
}
