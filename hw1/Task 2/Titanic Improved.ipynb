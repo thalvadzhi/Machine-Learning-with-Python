{
 "cells": [
  {
   "cell_type": "code",
   "execution_count": 2,
   "metadata": {
    "collapsed": true
   },
   "outputs": [],
   "source": [
    "import numpy as np\n",
    "import matplotlib.pyplot as plt\n",
    "import pandas as pd\n",
    "import seaborn as sns\n",
    "import mglearn\n",
    "\n",
    "from IPython.display import display\n",
    "\n",
    "%matplotlib inline"
   ]
  },
  {
   "cell_type": "code",
   "execution_count": 154,
   "metadata": {
    "collapsed": true
   },
   "outputs": [],
   "source": [
    "train_data = pd.read_csv('titanic/train.csv', index_col='PassengerId')\n",
    "test_data = pd.read_csv('titanic/test.csv', index_col='PassengerId')"
   ]
  },
  {
   "cell_type": "code",
   "execution_count": 84,
   "metadata": {},
   "outputs": [
    {
     "name": "stdout",
     "output_type": "stream",
     "text": [
      "(891, 11)\n",
      "(418, 10)\n"
     ]
    }
   ],
   "source": [
    "print(train_data.shape)\n",
    "print(test_data.shape)"
   ]
  },
  {
   "cell_type": "markdown",
   "metadata": {},
   "source": [
    "Съединявам train с test, за да добавям колони паралелно и в двата сета ( знам че първите 891 реда са от train)"
   ]
  },
  {
   "cell_type": "code",
   "execution_count": 155,
   "metadata": {},
   "outputs": [],
   "source": [
    "combo = train_data.append(test_data)"
   ]
  },
  {
   "cell_type": "markdown",
   "metadata": {},
   "source": [
    "За титлите използвам кода от лекциите."
   ]
  },
  {
   "cell_type": "code",
   "execution_count": 156,
   "metadata": {
    "collapsed": true
   },
   "outputs": [],
   "source": [
    "def make_titles(data):\n",
    "    data['Title'] = data.Name.str.extract('([A-Za-z]+)\\.', expand=False)\n",
    "    data.loc[data.Title == 'Mlle', 'Title'] = 'Miss'\n",
    "    data.loc[data.Title == 'Mme', 'Title']  = 'Mrs'\n",
    "    data.loc[data.Title == 'Ms', 'Title']   = 'Miss'\n",
    "\n",
    "    rare_titles = ['Dr', 'Rev', 'Col', 'Major', 'Countess', 'Don', 'Jonkheer', 'Capt', 'Lady', 'Sir']\n",
    "    data.Title = data.Title.replace(rare_titles, 'Rare')"
   ]
  },
  {
   "cell_type": "markdown",
   "metadata": {},
   "source": [
    "За възрастите също."
   ]
  },
  {
   "cell_type": "code",
   "execution_count": 157,
   "metadata": {
    "collapsed": true
   },
   "outputs": [],
   "source": [
    "def fill_ages_by_title(data):\n",
    "    age_by_title = data.groupby('Title').Age.mean()\n",
    "    data.loc[data.Age.isnull() & (data.Title == 'Mr'), 'Age'] = age_by_title['Mr']\n",
    "    data.loc[data.Age.isnull() & (data.Title == 'Mrs'), 'Age'] = age_by_title['Mrs']\n",
    "    data.loc[data.Age.isnull() & (data.Title == 'Miss'), 'Age'] = age_by_title['Miss']\n",
    "    data.loc[data.Age.isnull() & (data.Title == 'Master'), 'Age'] = age_by_title['Master']\n",
    "    data.loc[data.Age.isnull() & (data.Title == 'Rare'), 'Age'] = age_by_title['Rare']"
   ]
  },
  {
   "cell_type": "markdown",
   "metadata": {},
   "source": [
    "Запълвам embarked с S, както на лекцията."
   ]
  },
  {
   "cell_type": "code",
   "execution_count": 158,
   "metadata": {
    "collapsed": true
   },
   "outputs": [],
   "source": [
    "def fill_embarked(data):\n",
    "    data.Embarked = data.Embarked.fillna('S')"
   ]
  },
  {
   "cell_type": "code",
   "execution_count": 159,
   "metadata": {
    "collapsed": true
   },
   "outputs": [],
   "source": [
    "def fill_fare(data):\n",
    "    data.Fare = data.Fare.fillna(data.Fare.mean())"
   ]
  },
  {
   "cell_type": "markdown",
   "metadata": {},
   "source": [
    "След малко ровене в интернет установих, че първата буква от кабината означава палубата. Тъй като палубите са на различни нива в кораба, това може да окаже влияние върху крайния резултат. Където няма въведена кабина пиша N."
   ]
  },
  {
   "cell_type": "code",
   "execution_count": 160,
   "metadata": {
    "collapsed": true
   },
   "outputs": [],
   "source": [
    "def get_decks(data):\n",
    "    data[\"deck\"] = data.Cabin.str[0]\n",
    "    data[\"deck\"] = data.deck.fillna(\"N\")"
   ]
  },
  {
   "cell_type": "markdown",
   "metadata": {},
   "source": [
    "Резултата малко се подобрява като се разбие размера на семейството на малко и голямо семейство."
   ]
  },
  {
   "cell_type": "code",
   "execution_count": 161,
   "metadata": {
    "collapsed": true
   },
   "outputs": [],
   "source": [
    "def bin_family(data):\n",
    "    family_size = data['Parch'] + data['SibSp'] + 1\n",
    "    data['family_size_one'] = family_size == 1\n",
    "    data['family_size_small'] = ((2 <= family_size) & (family_size <= 4))\n",
    "    data['family_size_big'] = 5 <= family_size"
   ]
  },
  {
   "cell_type": "markdown",
   "metadata": {},
   "source": [
    "Голямо влияние върху резултата в kaggle оказа разделянето на вързастта. След известно натъкмяване избрах [0, 18, 36, 48, 60, 81] за кофи"
   ]
  },
  {
   "cell_type": "code",
   "execution_count": 175,
   "metadata": {
    "collapsed": true
   },
   "outputs": [],
   "source": [
    "def bin_age(data):\n",
    "    data[\"Age\"] = pd.cut(data.Age, bins=[0, 18, 36, 48, 60, 81], labels=[0, 1, 2, 3, 4])\n",
    "    age_dummied = pd.get_dummies(data[\"Age\"], prefix=\"Age\")\n",
    "    data.drop(\"Age\", axis=1, inplace=True)\n",
    "    data = pd.concat([data, age_dummied], axis=1)\n",
    "    return data"
   ]
  },
  {
   "cell_type": "markdown",
   "metadata": {},
   "source": [
    "Извличам буквите от началото на билета като фийчър.\n",
    "\n",
    "Не знам какво точно означават те, но реших да пробвам дали ще окажат влияние върху резултата. Оказа се, че оказват доста влияние."
   ]
  },
  {
   "cell_type": "code",
   "execution_count": 163,
   "metadata": {
    "collapsed": true
   },
   "outputs": [],
   "source": [
    "def manage_ticket(data):\n",
    "    data[\"ticket_code\"] = data.Ticket.str.replace(\"[0-9]|[/., ]\", \"\")\n",
    "    data.ticket_code = data.ticket_code.fillna(\"NONE\")"
   ]
  },
  {
   "cell_type": "code",
   "execution_count": 185,
   "metadata": {
    "collapsed": true
   },
   "outputs": [],
   "source": [
    "def engineer_data(data_in):\n",
    "    data = data_in.copy()\n",
    "    fill_embarked(data)\n",
    "    fill_fare(data)\n",
    "    make_titles(data)\n",
    "    get_decks(data)\n",
    "    manage_ticket(data)\n",
    "    fill_ages(data)\n",
    "    bin_family(data)\n",
    "    data = bin_age(data)\n",
    "    data = data.drop([\"Cabin\", \"Ticket\", \"Name\", 'SibSp', 'Parch'], axis=1)\n",
    "    data = pd.get_dummies(data)\n",
    "    return data"
   ]
  },
  {
   "cell_type": "code",
   "execution_count": 187,
   "metadata": {},
   "outputs": [],
   "source": [
    "whole_dataset_engineered = engineer_data(combo)\n",
    "train_engineered = whole_dataset_engineered[:891]\n",
    "test_engineered = whole_dataset_engineered[891:]"
   ]
  },
  {
   "cell_type": "code",
   "execution_count": 188,
   "metadata": {},
   "outputs": [],
   "source": [
    "X = train_engineered.drop(\"Survived\", axis=1)\n",
    "y = train_engineered[\"Survived\"]"
   ]
  },
  {
   "cell_type": "code",
   "execution_count": null,
   "metadata": {
    "collapsed": true
   },
   "outputs": [],
   "source": [
    "С известно натъкмяване на хиперпараметрите постигнах този резултат:"
   ]
  },
  {
   "cell_type": "code",
   "execution_count": 204,
   "metadata": {},
   "outputs": [
    {
     "name": "stdout",
     "output_type": "stream",
     "text": [
      "Train score  0.868263473054\n",
      "Test score  0.847533632287\n"
     ]
    }
   ],
   "source": [
    "from sklearn.model_selection import train_test_split\n",
    "from sklearn.ensemble import RandomForestClassifier\n",
    "model = RandomForestClassifier(random_state=0, max_depth=10, n_estimators=100, min_samples_split=15)\n",
    "X_train, X_test, y_train, y_test = train_test_split(X, y, random_state=0, stratify=y)\n",
    "model.fit(X_train, y_train)\n",
    "print(\"Train score \", model.score(X_train, y_train))\n",
    "print(\"Test score \",  model.score(X_test, y_test))\n"
   ]
  },
  {
   "cell_type": "code",
   "execution_count": 202,
   "metadata": {},
   "outputs": [
    {
     "data": {
      "text/html": [
       "<div>\n",
       "<style>\n",
       "    .dataframe thead tr:only-child th {\n",
       "        text-align: right;\n",
       "    }\n",
       "\n",
       "    .dataframe thead th {\n",
       "        text-align: left;\n",
       "    }\n",
       "\n",
       "    .dataframe tbody tr th {\n",
       "        vertical-align: top;\n",
       "    }\n",
       "</style>\n",
       "<table border=\"1\" class=\"dataframe\">\n",
       "  <thead>\n",
       "    <tr style=\"text-align: right;\">\n",
       "      <th></th>\n",
       "      <th>Survived</th>\n",
       "    </tr>\n",
       "    <tr>\n",
       "      <th>PassengerId</th>\n",
       "      <th></th>\n",
       "    </tr>\n",
       "  </thead>\n",
       "  <tbody>\n",
       "    <tr>\n",
       "      <th>892</th>\n",
       "      <td>0</td>\n",
       "    </tr>\n",
       "    <tr>\n",
       "      <th>893</th>\n",
       "      <td>1</td>\n",
       "    </tr>\n",
       "    <tr>\n",
       "      <th>894</th>\n",
       "      <td>0</td>\n",
       "    </tr>\n",
       "    <tr>\n",
       "      <th>895</th>\n",
       "      <td>0</td>\n",
       "    </tr>\n",
       "    <tr>\n",
       "      <th>896</th>\n",
       "      <td>1</td>\n",
       "    </tr>\n",
       "  </tbody>\n",
       "</table>\n",
       "</div>"
      ],
      "text/plain": [
       "             Survived\n",
       "PassengerId          \n",
       "892                 0\n",
       "893                 1\n",
       "894                 0\n",
       "895                 0\n",
       "896                 1"
      ]
     },
     "execution_count": 202,
     "metadata": {},
     "output_type": "execute_result"
    }
   ],
   "source": [
    "transformed_test_data = test_engineered.drop(\"Survived\", axis=1)\n",
    "model = RandomForestClassifier(random_state=0, max_depth=10, n_estimators=100, min_samples_split=15)\n",
    "model.fit(X, y)\n",
    "predictions = model.predict(transformed_test_data)\n",
    "\n",
    "frame = pd.DataFrame({\n",
    "    'PassengerId': pd.read_csv('titanic/test.csv').PassengerId,\n",
    "    'Survived': predictions.astype(int)\n",
    "})\n",
    "frame = frame.set_index('PassengerId')\n",
    "frame.to_csv('~/Desktop/predictions.csv')\n",
    "frame.head()"
   ]
  },
  {
   "cell_type": "markdown",
   "metadata": {},
   "source": [
    "Резултата в kaggle е "
   ]
  },
  {
   "cell_type": "markdown",
   "metadata": {},
   "source": [
    "<img src=\"img/kaggle_result.png\">"
   ]
  }
 ],
 "metadata": {
  "kernelspec": {
   "display_name": "Python 3",
   "language": "python",
   "name": "python3"
  },
  "language_info": {
   "codemirror_mode": {
    "name": "ipython",
    "version": 3
   },
   "file_extension": ".py",
   "mimetype": "text/x-python",
   "name": "python",
   "nbconvert_exporter": "python",
   "pygments_lexer": "ipython3",
   "version": "3.6.3"
  }
 },
 "nbformat": 4,
 "nbformat_minor": 2
}
