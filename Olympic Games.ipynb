{
 "cells": [
  {
   "cell_type": "code",
   "execution_count": 1,
   "metadata": {
    "collapsed": true
   },
   "outputs": [],
   "source": [
    "import numpy as np\n",
    "import matplotlib.pyplot as plt\n",
    "import pandas as pd\n",
    "import seaborn as sns\n",
    "import mglearn\n",
    "\n",
    "from IPython.display import display\n",
    "\n",
    "%matplotlib inline"
   ]
  },
  {
   "cell_type": "markdown",
   "metadata": {},
   "source": [
    "# Какъв е дейтасета?\n",
    "[Dataset-a](https://www.kaggle.com/rio2016/olympic-games) е за олимпийските игри в Рио. Той съдържа три файла - athletes, events, countries. За жалост няма начин да се свържат атлетите със състезанията, в които са участвали затова events изобщо няма да се ползва.\n",
    "# Какво ще предричаме?\n",
    "Интересен въпрос е дали на базата на характеристиките в дейтасета може да се предрече за даден атлет колко медала е спечелил."
   ]
  },
  {
   "cell_type": "code",
   "execution_count": 2,
   "metadata": {
    "scrolled": true
   },
   "outputs": [
    {
     "name": "stdout",
     "output_type": "stream",
     "text": [
      "(11538, 11)\n"
     ]
    },
    {
     "data": {
      "text/html": [
       "<div>\n",
       "<style>\n",
       "    .dataframe thead tr:only-child th {\n",
       "        text-align: right;\n",
       "    }\n",
       "\n",
       "    .dataframe thead th {\n",
       "        text-align: left;\n",
       "    }\n",
       "\n",
       "    .dataframe tbody tr th {\n",
       "        vertical-align: top;\n",
       "    }\n",
       "</style>\n",
       "<table border=\"1\" class=\"dataframe\">\n",
       "  <thead>\n",
       "    <tr style=\"text-align: right;\">\n",
       "      <th></th>\n",
       "      <th>id</th>\n",
       "      <th>name</th>\n",
       "      <th>nationality</th>\n",
       "      <th>sex</th>\n",
       "      <th>dob</th>\n",
       "      <th>height</th>\n",
       "      <th>weight</th>\n",
       "      <th>sport</th>\n",
       "      <th>gold</th>\n",
       "      <th>silver</th>\n",
       "      <th>bronze</th>\n",
       "    </tr>\n",
       "  </thead>\n",
       "  <tbody>\n",
       "    <tr>\n",
       "      <th>0</th>\n",
       "      <td>736041664</td>\n",
       "      <td>A Jesus Garcia</td>\n",
       "      <td>ESP</td>\n",
       "      <td>male</td>\n",
       "      <td>10/17/69</td>\n",
       "      <td>1.72</td>\n",
       "      <td>64.0</td>\n",
       "      <td>athletics</td>\n",
       "      <td>0</td>\n",
       "      <td>0</td>\n",
       "      <td>0</td>\n",
       "    </tr>\n",
       "    <tr>\n",
       "      <th>1</th>\n",
       "      <td>532037425</td>\n",
       "      <td>A Lam Shin</td>\n",
       "      <td>KOR</td>\n",
       "      <td>female</td>\n",
       "      <td>9/23/86</td>\n",
       "      <td>1.68</td>\n",
       "      <td>56.0</td>\n",
       "      <td>fencing</td>\n",
       "      <td>0</td>\n",
       "      <td>0</td>\n",
       "      <td>0</td>\n",
       "    </tr>\n",
       "    <tr>\n",
       "      <th>2</th>\n",
       "      <td>435962603</td>\n",
       "      <td>Aaron Brown</td>\n",
       "      <td>CAN</td>\n",
       "      <td>male</td>\n",
       "      <td>5/27/92</td>\n",
       "      <td>1.98</td>\n",
       "      <td>79.0</td>\n",
       "      <td>athletics</td>\n",
       "      <td>0</td>\n",
       "      <td>0</td>\n",
       "      <td>1</td>\n",
       "    </tr>\n",
       "    <tr>\n",
       "      <th>3</th>\n",
       "      <td>521041435</td>\n",
       "      <td>Aaron Cook</td>\n",
       "      <td>MDA</td>\n",
       "      <td>male</td>\n",
       "      <td>1/2/91</td>\n",
       "      <td>1.83</td>\n",
       "      <td>80.0</td>\n",
       "      <td>taekwondo</td>\n",
       "      <td>0</td>\n",
       "      <td>0</td>\n",
       "      <td>0</td>\n",
       "    </tr>\n",
       "    <tr>\n",
       "      <th>4</th>\n",
       "      <td>33922579</td>\n",
       "      <td>Aaron Gate</td>\n",
       "      <td>NZL</td>\n",
       "      <td>male</td>\n",
       "      <td>11/26/90</td>\n",
       "      <td>1.81</td>\n",
       "      <td>71.0</td>\n",
       "      <td>cycling</td>\n",
       "      <td>0</td>\n",
       "      <td>0</td>\n",
       "      <td>0</td>\n",
       "    </tr>\n",
       "  </tbody>\n",
       "</table>\n",
       "</div>"
      ],
      "text/plain": [
       "          id            name nationality     sex       dob  height  weight  \\\n",
       "0  736041664  A Jesus Garcia         ESP    male  10/17/69    1.72    64.0   \n",
       "1  532037425      A Lam Shin         KOR  female   9/23/86    1.68    56.0   \n",
       "2  435962603     Aaron Brown         CAN    male   5/27/92    1.98    79.0   \n",
       "3  521041435      Aaron Cook         MDA    male    1/2/91    1.83    80.0   \n",
       "4   33922579      Aaron Gate         NZL    male  11/26/90    1.81    71.0   \n",
       "\n",
       "       sport  gold  silver  bronze  \n",
       "0  athletics     0       0       0  \n",
       "1    fencing     0       0       0  \n",
       "2  athletics     0       0       1  \n",
       "3  taekwondo     0       0       0  \n",
       "4    cycling     0       0       0  "
      ]
     },
     "execution_count": 2,
     "metadata": {},
     "output_type": "execute_result"
    }
   ],
   "source": [
    "athletes = pd.read_csv(\"OlympicGames/data/athletes.csv\", encoding=\"ISO-8859-1\")\n",
    "countries = pd.read_csv(\"OlympicGames/data/countries.csv\", encoding=\"ISO-8859-1\")\n",
    "print(athletes.shape)\n",
    "athletes[:5]"
   ]
  },
  {
   "cell_type": "code",
   "execution_count": 3,
   "metadata": {},
   "outputs": [
    {
     "name": "stdout",
     "output_type": "stream",
     "text": [
      "(201, 4)\n"
     ]
    },
    {
     "data": {
      "text/html": [
       "<div>\n",
       "<style>\n",
       "    .dataframe thead tr:only-child th {\n",
       "        text-align: right;\n",
       "    }\n",
       "\n",
       "    .dataframe thead th {\n",
       "        text-align: left;\n",
       "    }\n",
       "\n",
       "    .dataframe tbody tr th {\n",
       "        vertical-align: top;\n",
       "    }\n",
       "</style>\n",
       "<table border=\"1\" class=\"dataframe\">\n",
       "  <thead>\n",
       "    <tr style=\"text-align: right;\">\n",
       "      <th></th>\n",
       "      <th>country</th>\n",
       "      <th>code</th>\n",
       "      <th>population</th>\n",
       "      <th>gdp_per_capita</th>\n",
       "    </tr>\n",
       "  </thead>\n",
       "  <tbody>\n",
       "    <tr>\n",
       "      <th>0</th>\n",
       "      <td>Afghanistan</td>\n",
       "      <td>AFG</td>\n",
       "      <td>32526562.0</td>\n",
       "      <td>594.323081</td>\n",
       "    </tr>\n",
       "    <tr>\n",
       "      <th>1</th>\n",
       "      <td>Albania</td>\n",
       "      <td>ALB</td>\n",
       "      <td>2889167.0</td>\n",
       "      <td>3945.217582</td>\n",
       "    </tr>\n",
       "    <tr>\n",
       "      <th>2</th>\n",
       "      <td>Algeria</td>\n",
       "      <td>ALG</td>\n",
       "      <td>39666519.0</td>\n",
       "      <td>4206.031232</td>\n",
       "    </tr>\n",
       "    <tr>\n",
       "      <th>3</th>\n",
       "      <td>American Samoa*</td>\n",
       "      <td>ASA</td>\n",
       "      <td>55538.0</td>\n",
       "      <td>NaN</td>\n",
       "    </tr>\n",
       "    <tr>\n",
       "      <th>4</th>\n",
       "      <td>Andorra</td>\n",
       "      <td>AND</td>\n",
       "      <td>70473.0</td>\n",
       "      <td>NaN</td>\n",
       "    </tr>\n",
       "  </tbody>\n",
       "</table>\n",
       "</div>"
      ],
      "text/plain": [
       "           country code  population  gdp_per_capita\n",
       "0      Afghanistan  AFG  32526562.0      594.323081\n",
       "1          Albania  ALB   2889167.0     3945.217582\n",
       "2          Algeria  ALG  39666519.0     4206.031232\n",
       "3  American Samoa*  ASA     55538.0             NaN\n",
       "4          Andorra  AND     70473.0             NaN"
      ]
     },
     "execution_count": 3,
     "metadata": {},
     "output_type": "execute_result"
    }
   ],
   "source": [
    "print(countries.shape)\n",
    "countries[:5]"
   ]
  },
  {
   "cell_type": "markdown",
   "metadata": {},
   "source": [
    "Очаквам, че feature-ите population и gdp_per_capita ще оказват влияние върху качествата на спортистите(по-богатите държави могат да си позволят по-добра подготовка, а когато избираш най-добрите от голямо население има по-голям шанс да избереш най-добрите въобще). \n",
    "\n",
    "По тези причини да свържем двете таблици. "
   ]
  },
  {
   "cell_type": "code",
   "execution_count": 4,
   "metadata": {},
   "outputs": [
    {
     "data": {
      "text/html": [
       "<div>\n",
       "<style>\n",
       "    .dataframe thead tr:only-child th {\n",
       "        text-align: right;\n",
       "    }\n",
       "\n",
       "    .dataframe thead th {\n",
       "        text-align: left;\n",
       "    }\n",
       "\n",
       "    .dataframe tbody tr th {\n",
       "        vertical-align: top;\n",
       "    }\n",
       "</style>\n",
       "<table border=\"1\" class=\"dataframe\">\n",
       "  <thead>\n",
       "    <tr style=\"text-align: right;\">\n",
       "      <th></th>\n",
       "      <th>id</th>\n",
       "      <th>name</th>\n",
       "      <th>nationality</th>\n",
       "      <th>sex</th>\n",
       "      <th>dob</th>\n",
       "      <th>height</th>\n",
       "      <th>weight</th>\n",
       "      <th>sport</th>\n",
       "      <th>gold</th>\n",
       "      <th>silver</th>\n",
       "      <th>bronze</th>\n",
       "      <th>country</th>\n",
       "      <th>code</th>\n",
       "      <th>population</th>\n",
       "      <th>gdp_per_capita</th>\n",
       "    </tr>\n",
       "  </thead>\n",
       "  <tbody>\n",
       "    <tr>\n",
       "      <th>0</th>\n",
       "      <td>736041664</td>\n",
       "      <td>A Jesus Garcia</td>\n",
       "      <td>ESP</td>\n",
       "      <td>male</td>\n",
       "      <td>10/17/69</td>\n",
       "      <td>1.72</td>\n",
       "      <td>64.0</td>\n",
       "      <td>athletics</td>\n",
       "      <td>0</td>\n",
       "      <td>0</td>\n",
       "      <td>0</td>\n",
       "      <td>Spain</td>\n",
       "      <td>ESP</td>\n",
       "      <td>46418269.0</td>\n",
       "      <td>25831.582305</td>\n",
       "    </tr>\n",
       "    <tr>\n",
       "      <th>1</th>\n",
       "      <td>87689776</td>\n",
       "      <td>Aauri Lorena Bokesa</td>\n",
       "      <td>ESP</td>\n",
       "      <td>female</td>\n",
       "      <td>12/14/88</td>\n",
       "      <td>1.80</td>\n",
       "      <td>62.0</td>\n",
       "      <td>athletics</td>\n",
       "      <td>0</td>\n",
       "      <td>0</td>\n",
       "      <td>0</td>\n",
       "      <td>Spain</td>\n",
       "      <td>ESP</td>\n",
       "      <td>46418269.0</td>\n",
       "      <td>25831.582305</td>\n",
       "    </tr>\n",
       "    <tr>\n",
       "      <th>2</th>\n",
       "      <td>803161695</td>\n",
       "      <td>Abdelaziz Merzougui</td>\n",
       "      <td>ESP</td>\n",
       "      <td>male</td>\n",
       "      <td>8/30/91</td>\n",
       "      <td>1.75</td>\n",
       "      <td>67.0</td>\n",
       "      <td>athletics</td>\n",
       "      <td>0</td>\n",
       "      <td>0</td>\n",
       "      <td>0</td>\n",
       "      <td>Spain</td>\n",
       "      <td>ESP</td>\n",
       "      <td>46418269.0</td>\n",
       "      <td>25831.582305</td>\n",
       "    </tr>\n",
       "    <tr>\n",
       "      <th>3</th>\n",
       "      <td>302277635</td>\n",
       "      <td>Adel Mechaal</td>\n",
       "      <td>ESP</td>\n",
       "      <td>male</td>\n",
       "      <td>12/5/90</td>\n",
       "      <td>1.82</td>\n",
       "      <td>71.0</td>\n",
       "      <td>athletics</td>\n",
       "      <td>0</td>\n",
       "      <td>0</td>\n",
       "      <td>0</td>\n",
       "      <td>Spain</td>\n",
       "      <td>ESP</td>\n",
       "      <td>46418269.0</td>\n",
       "      <td>25831.582305</td>\n",
       "    </tr>\n",
       "    <tr>\n",
       "      <th>4</th>\n",
       "      <td>400838338</td>\n",
       "      <td>Adrian Gavira Collado</td>\n",
       "      <td>ESP</td>\n",
       "      <td>male</td>\n",
       "      <td>9/17/87</td>\n",
       "      <td>1.93</td>\n",
       "      <td>89.0</td>\n",
       "      <td>volleyball</td>\n",
       "      <td>0</td>\n",
       "      <td>0</td>\n",
       "      <td>0</td>\n",
       "      <td>Spain</td>\n",
       "      <td>ESP</td>\n",
       "      <td>46418269.0</td>\n",
       "      <td>25831.582305</td>\n",
       "    </tr>\n",
       "  </tbody>\n",
       "</table>\n",
       "</div>"
      ],
      "text/plain": [
       "          id                   name nationality     sex       dob  height  \\\n",
       "0  736041664         A Jesus Garcia         ESP    male  10/17/69    1.72   \n",
       "1   87689776    Aauri Lorena Bokesa         ESP  female  12/14/88    1.80   \n",
       "2  803161695    Abdelaziz Merzougui         ESP    male   8/30/91    1.75   \n",
       "3  302277635           Adel Mechaal         ESP    male   12/5/90    1.82   \n",
       "4  400838338  Adrian Gavira Collado         ESP    male   9/17/87    1.93   \n",
       "\n",
       "   weight       sport  gold  silver  bronze country code  population  \\\n",
       "0    64.0   athletics     0       0       0   Spain  ESP  46418269.0   \n",
       "1    62.0   athletics     0       0       0   Spain  ESP  46418269.0   \n",
       "2    67.0   athletics     0       0       0   Spain  ESP  46418269.0   \n",
       "3    71.0   athletics     0       0       0   Spain  ESP  46418269.0   \n",
       "4    89.0  volleyball     0       0       0   Spain  ESP  46418269.0   \n",
       "\n",
       "   gdp_per_capita  \n",
       "0    25831.582305  \n",
       "1    25831.582305  \n",
       "2    25831.582305  \n",
       "3    25831.582305  \n",
       "4    25831.582305  "
      ]
     },
     "execution_count": 4,
     "metadata": {},
     "output_type": "execute_result"
    }
   ],
   "source": [
    "athletes_with_country = pd.merge(athletes, countries, left_on=\"nationality\", right_on=\"code\")\n",
    "athletes_with_country[:5]"
   ]
  },
  {
   "cell_type": "code",
   "execution_count": 5,
   "metadata": {},
   "outputs": [
    {
     "data": {
      "text/plain": [
       "(11231, 15)"
      ]
     },
     "execution_count": 5,
     "metadata": {},
     "output_type": "execute_result"
    }
   ],
   "source": [
    "athletes_with_country.shape"
   ]
  },
  {
   "cell_type": "markdown",
   "metadata": {},
   "source": [
    "След сливането част от атлетите отпаднаха, изглежда има разминаване в IOC кодовете. Да видим."
   ]
  },
  {
   "cell_type": "code",
   "execution_count": 6,
   "metadata": {},
   "outputs": [
    {
     "data": {
      "text/plain": [
       "{'IOA', 'KIR', 'KOS', 'MHL', 'MNE', 'ROT', 'ROU', 'SRB', 'SSD', 'TTO', 'TUV'}"
      ]
     },
     "execution_count": 6,
     "metadata": {},
     "output_type": "execute_result"
    }
   ],
   "source": [
    "ioc_not_in_countries = set(athletes.nationality) - set(countries.code)\n",
    "ioc_not_in_countries"
   ]
  },
  {
   "cell_type": "code",
   "execution_count": 7,
   "metadata": {
    "collapsed": true
   },
   "outputs": [],
   "source": [
    "ioc_to_country = {\"ROU\": \"Romania\" ,\"SRB\": \"Serbia\",\"TTO\": \"Trinidad and Tobago\"}"
   ]
  },
  {
   "cell_type": "code",
   "execution_count": 8,
   "metadata": {},
   "outputs": [
    {
     "data": {
      "text/plain": [
       "<matplotlib.axes._subplots.AxesSubplot at 0x7f8db0bc58d0>"
      ]
     },
     "execution_count": 8,
     "metadata": {},
     "output_type": "execute_result"
    },
    {
     "data": {
      "image/png": "[encoded data removed]",
      "text/plain": [
       "<matplotlib.figure.Figure at 0x7f8db0bc5828>"
      ]
     },
     "metadata": {},
     "output_type": "display_data"
    }
   ],
   "source": [
    "sns.countplot(x=\"nationality\", data=athletes[athletes.nationality.isin(ioc_not_in_countries)])"
   ]
  },
  {
   "cell_type": "markdown",
   "metadata": {},
   "source": [
    "Най-много разминаване има при Румъния, Сърбия, Черна гора, Тринидад и тобаго. IOA са независими състезатели а ROT са бежанци, за тях трудно ще се намери информация. Останалите са много малко на брой."
   ]
  },
  {
   "cell_type": "code",
   "execution_count": 9,
   "metadata": {},
   "outputs": [
    {
     "data": {
      "text/html": [
       "<div>\n",
       "<style>\n",
       "    .dataframe thead tr:only-child th {\n",
       "        text-align: right;\n",
       "    }\n",
       "\n",
       "    .dataframe thead th {\n",
       "        text-align: left;\n",
       "    }\n",
       "\n",
       "    .dataframe tbody tr th {\n",
       "        vertical-align: top;\n",
       "    }\n",
       "</style>\n",
       "<table border=\"1\" class=\"dataframe\">\n",
       "  <thead>\n",
       "    <tr style=\"text-align: right;\">\n",
       "      <th></th>\n",
       "      <th>country</th>\n",
       "      <th>code</th>\n",
       "      <th>population</th>\n",
       "      <th>gdp_per_capita</th>\n",
       "    </tr>\n",
       "  </thead>\n",
       "  <tbody>\n",
       "    <tr>\n",
       "      <th>149</th>\n",
       "      <td>Romania</td>\n",
       "      <td>ROM</td>\n",
       "      <td>19832389.0</td>\n",
       "      <td>8972.922518</td>\n",
       "    </tr>\n",
       "    <tr>\n",
       "      <th>160</th>\n",
       "      <td>Serbia</td>\n",
       "      <td>SCG</td>\n",
       "      <td>7098247.0</td>\n",
       "      <td>5235.142207</td>\n",
       "    </tr>\n",
       "    <tr>\n",
       "      <th>183</th>\n",
       "      <td>Trinidad and Tobago</td>\n",
       "      <td>TRI</td>\n",
       "      <td>1360088.0</td>\n",
       "      <td>17321.884675</td>\n",
       "    </tr>\n",
       "  </tbody>\n",
       "</table>\n",
       "</div>"
      ],
      "text/plain": [
       "                 country code  population  gdp_per_capita\n",
       "149              Romania  ROM  19832389.0     8972.922518\n",
       "160               Serbia  SCG   7098247.0     5235.142207\n",
       "183  Trinidad and Tobago  TRI   1360088.0    17321.884675"
      ]
     },
     "execution_count": 9,
     "metadata": {},
     "output_type": "execute_result"
    }
   ],
   "source": [
    "countries[countries.country.isin(ioc_to_country.values())]"
   ]
  },
  {
   "cell_type": "markdown",
   "metadata": {},
   "source": [
    "Изглежда за три от държавите има информация, просто са записани със стари ICO кодове. За черна гора няма информация. Айде, от мен да мине, ще ги уважа и тях."
   ]
  },
  {
   "cell_type": "code",
   "execution_count": 10,
   "metadata": {
    "collapsed": true
   },
   "outputs": [],
   "source": [
    "montenegro = pd.DataFrame([[\"Montenegro\", \"MNE\", 622781, 6701]], columns=list(countries.columns.values))\n",
    "countries = countries.append(montenegro, ignore_index=True)"
   ]
  },
  {
   "cell_type": "markdown",
   "metadata": {},
   "source": [
    "Остана да променя кодовете на Сърбия, Румъния, Тринидад и Тобаго."
   ]
  },
  {
   "cell_type": "code",
   "execution_count": 11,
   "metadata": {
    "collapsed": true
   },
   "outputs": [],
   "source": [
    "countries.loc[countries.country == \"Romania\", \"code\"] = \"ROU\"\n",
    "countries.loc[countries.country == \"Serbia\", \"code\"] = \"SRB\"\n",
    "countries.loc[countries.country == \"Trinidad and Tobago\", \"code\"] = \"TTO\""
   ]
  },
  {
   "cell_type": "code",
   "execution_count": 12,
   "metadata": {},
   "outputs": [
    {
     "data": {
      "text/html": [
       "<div>\n",
       "<style>\n",
       "    .dataframe thead tr:only-child th {\n",
       "        text-align: right;\n",
       "    }\n",
       "\n",
       "    .dataframe thead th {\n",
       "        text-align: left;\n",
       "    }\n",
       "\n",
       "    .dataframe tbody tr th {\n",
       "        vertical-align: top;\n",
       "    }\n",
       "</style>\n",
       "<table border=\"1\" class=\"dataframe\">\n",
       "  <thead>\n",
       "    <tr style=\"text-align: right;\">\n",
       "      <th></th>\n",
       "      <th>country</th>\n",
       "      <th>code</th>\n",
       "      <th>population</th>\n",
       "      <th>gdp_per_capita</th>\n",
       "    </tr>\n",
       "  </thead>\n",
       "  <tbody>\n",
       "    <tr>\n",
       "      <th>149</th>\n",
       "      <td>Romania</td>\n",
       "      <td>ROU</td>\n",
       "      <td>19832389.0</td>\n",
       "      <td>8972.922518</td>\n",
       "    </tr>\n",
       "    <tr>\n",
       "      <th>160</th>\n",
       "      <td>Serbia</td>\n",
       "      <td>SRB</td>\n",
       "      <td>7098247.0</td>\n",
       "      <td>5235.142207</td>\n",
       "    </tr>\n",
       "    <tr>\n",
       "      <th>183</th>\n",
       "      <td>Trinidad and Tobago</td>\n",
       "      <td>TTO</td>\n",
       "      <td>1360088.0</td>\n",
       "      <td>17321.884675</td>\n",
       "    </tr>\n",
       "  </tbody>\n",
       "</table>\n",
       "</div>"
      ],
      "text/plain": [
       "                 country code  population  gdp_per_capita\n",
       "149              Romania  ROU  19832389.0     8972.922518\n",
       "160               Serbia  SRB   7098247.0     5235.142207\n",
       "183  Trinidad and Tobago  TTO   1360088.0    17321.884675"
      ]
     },
     "execution_count": 12,
     "metadata": {},
     "output_type": "execute_result"
    }
   ],
   "source": [
    "countries[countries.country.isin(ioc_to_country.values())]"
   ]
  },
  {
   "cell_type": "markdown",
   "metadata": {},
   "source": [
    "Опитваме сливането отново."
   ]
  },
  {
   "cell_type": "code",
   "execution_count": 13,
   "metadata": {},
   "outputs": [
    {
     "data": {
      "text/plain": [
       "(11499, 15)"
      ]
     },
     "execution_count": 13,
     "metadata": {},
     "output_type": "execute_result"
    }
   ],
   "source": [
    "athletes_with_countries = pd.merge(athletes, countries, left_on=\"nationality\", right_on=\"code\")\n",
    "athletes_with_countries.shape"
   ]
  },
  {
   "cell_type": "markdown",
   "metadata": {},
   "source": [
    "Сега губим само 39 спортиста. Close enough."
   ]
  },
  {
   "cell_type": "markdown",
   "metadata": {},
   "source": [
    "Колоните nationality и code са едни и същи, но и двете са излишни защото са в биекция с country. Името също така не е определящ фактор за спечелването на медали. Затова премахвам трите колони. Id също не върши работа."
   ]
  },
  {
   "cell_type": "code",
   "execution_count": 14,
   "metadata": {},
   "outputs": [
    {
     "data": {
      "text/html": [
       "<div>\n",
       "<style>\n",
       "    .dataframe thead tr:only-child th {\n",
       "        text-align: right;\n",
       "    }\n",
       "\n",
       "    .dataframe thead th {\n",
       "        text-align: left;\n",
       "    }\n",
       "\n",
       "    .dataframe tbody tr th {\n",
       "        vertical-align: top;\n",
       "    }\n",
       "</style>\n",
       "<table border=\"1\" class=\"dataframe\">\n",
       "  <thead>\n",
       "    <tr style=\"text-align: right;\">\n",
       "      <th></th>\n",
       "      <th>sex</th>\n",
       "      <th>dob</th>\n",
       "      <th>height</th>\n",
       "      <th>weight</th>\n",
       "      <th>sport</th>\n",
       "      <th>gold</th>\n",
       "      <th>silver</th>\n",
       "      <th>bronze</th>\n",
       "      <th>country</th>\n",
       "      <th>population</th>\n",
       "      <th>gdp_per_capita</th>\n",
       "    </tr>\n",
       "  </thead>\n",
       "  <tbody>\n",
       "    <tr>\n",
       "      <th>0</th>\n",
       "      <td>male</td>\n",
       "      <td>10/17/69</td>\n",
       "      <td>1.72</td>\n",
       "      <td>64.0</td>\n",
       "      <td>athletics</td>\n",
       "      <td>0</td>\n",
       "      <td>0</td>\n",
       "      <td>0</td>\n",
       "      <td>Spain</td>\n",
       "      <td>46418269.0</td>\n",
       "      <td>25831.582305</td>\n",
       "    </tr>\n",
       "    <tr>\n",
       "      <th>1</th>\n",
       "      <td>female</td>\n",
       "      <td>12/14/88</td>\n",
       "      <td>1.80</td>\n",
       "      <td>62.0</td>\n",
       "      <td>athletics</td>\n",
       "      <td>0</td>\n",
       "      <td>0</td>\n",
       "      <td>0</td>\n",
       "      <td>Spain</td>\n",
       "      <td>46418269.0</td>\n",
       "      <td>25831.582305</td>\n",
       "    </tr>\n",
       "    <tr>\n",
       "      <th>2</th>\n",
       "      <td>male</td>\n",
       "      <td>8/30/91</td>\n",
       "      <td>1.75</td>\n",
       "      <td>67.0</td>\n",
       "      <td>athletics</td>\n",
       "      <td>0</td>\n",
       "      <td>0</td>\n",
       "      <td>0</td>\n",
       "      <td>Spain</td>\n",
       "      <td>46418269.0</td>\n",
       "      <td>25831.582305</td>\n",
       "    </tr>\n",
       "    <tr>\n",
       "      <th>3</th>\n",
       "      <td>male</td>\n",
       "      <td>12/5/90</td>\n",
       "      <td>1.82</td>\n",
       "      <td>71.0</td>\n",
       "      <td>athletics</td>\n",
       "      <td>0</td>\n",
       "      <td>0</td>\n",
       "      <td>0</td>\n",
       "      <td>Spain</td>\n",
       "      <td>46418269.0</td>\n",
       "      <td>25831.582305</td>\n",
       "    </tr>\n",
       "    <tr>\n",
       "      <th>4</th>\n",
       "      <td>male</td>\n",
       "      <td>9/17/87</td>\n",
       "      <td>1.93</td>\n",
       "      <td>89.0</td>\n",
       "      <td>volleyball</td>\n",
       "      <td>0</td>\n",
       "      <td>0</td>\n",
       "      <td>0</td>\n",
       "      <td>Spain</td>\n",
       "      <td>46418269.0</td>\n",
       "      <td>25831.582305</td>\n",
       "    </tr>\n",
       "  </tbody>\n",
       "</table>\n",
       "</div>"
      ],
      "text/plain": [
       "      sex       dob  height  weight       sport  gold  silver  bronze country  \\\n",
       "0    male  10/17/69    1.72    64.0   athletics     0       0       0   Spain   \n",
       "1  female  12/14/88    1.80    62.0   athletics     0       0       0   Spain   \n",
       "2    male   8/30/91    1.75    67.0   athletics     0       0       0   Spain   \n",
       "3    male   12/5/90    1.82    71.0   athletics     0       0       0   Spain   \n",
       "4    male   9/17/87    1.93    89.0  volleyball     0       0       0   Spain   \n",
       "\n",
       "   population  gdp_per_capita  \n",
       "0  46418269.0    25831.582305  \n",
       "1  46418269.0    25831.582305  \n",
       "2  46418269.0    25831.582305  \n",
       "3  46418269.0    25831.582305  \n",
       "4  46418269.0    25831.582305  "
      ]
     },
     "execution_count": 14,
     "metadata": {},
     "output_type": "execute_result"
    }
   ],
   "source": [
    "athletes_with_countries = athletes_with_countries.drop([\"nationality\", \"code\", \"name\", \"id\"], axis=1)\n",
    "athletes_with_countries[:5]"
   ]
  },
  {
   "cell_type": "markdown",
   "metadata": {},
   "source": [
    "Сега да видим кои колони имат празни стойности."
   ]
  },
  {
   "cell_type": "code",
   "execution_count": 15,
   "metadata": {},
   "outputs": [
    {
     "data": {
      "text/plain": [
       "sex                 0\n",
       "sport               0\n",
       "gold                0\n",
       "silver              0\n",
       "bronze              0\n",
       "country             0\n",
       "dob                 1\n",
       "population         83\n",
       "height            325\n",
       "gdp_per_capita    509\n",
       "weight            654\n",
       "dtype: int64"
      ]
     },
     "execution_count": 15,
     "metadata": {},
     "output_type": "execute_result"
    }
   ],
   "source": [
    "athletes_with_countries.isnull().sum().sort_values()"
   ]
  },
  {
   "cell_type": "markdown",
   "metadata": {},
   "source": [
    "Липсват стойности в потенциално най-важните колони. Ще трябва да ги попълня.\n",
    "Преди това ще създам нови колони medals_won = общия брой спечелени медали и възраст извлечена от dob колоната."
   ]
  },
  {
   "cell_type": "code",
   "execution_count": 16,
   "metadata": {
    "collapsed": true
   },
   "outputs": [],
   "source": [
    "athletes_with_countries[\"medals_won\"] = athletes_with_countries[\"gold\"] + athletes_with_countries[\"silver\"] + athletes_with_countries[\"bronze\"]"
   ]
  },
  {
   "cell_type": "code",
   "execution_count": 17,
   "metadata": {},
   "outputs": [
    {
     "data": {
      "text/plain": [
       "sex                 0\n",
       "sport               0\n",
       "gold                0\n",
       "silver              0\n",
       "bronze              0\n",
       "country             0\n",
       "medals_won          0\n",
       "dob                 1\n",
       "population         83\n",
       "height            325\n",
       "gdp_per_capita    509\n",
       "weight            654\n",
       "dtype: int64"
      ]
     },
     "execution_count": 17,
     "metadata": {},
     "output_type": "execute_result"
    }
   ],
   "source": [
    "athletes_with_countries.isnull().sum().sort_values()"
   ]
  },
  {
   "cell_type": "markdown",
   "metadata": {},
   "source": [
    "Има само едно празно dob, запълвам го с разумно очакване за средна година на раждане на участник в олимпиадата."
   ]
  },
  {
   "cell_type": "code",
   "execution_count": 18,
   "metadata": {
    "collapsed": true
   },
   "outputs": [],
   "source": [
    "athletes_with_countries[\"dob\"] = athletes_with_countries.dob.fillna(\"/94\")"
   ]
  },
  {
   "cell_type": "code",
   "execution_count": 19,
   "metadata": {
    "collapsed": true
   },
   "outputs": [],
   "source": [
    "import datetime\n",
    "import re\n",
    "year_now = datetime.datetime.now().year\n",
    "\n",
    "\n",
    "def get_age_from_dob(row):\n",
    "    match_obj = re.search(r'/([0-9]+)$', row.dob, flags=0)\n",
    "    year = pd.to_numeric(match_obj.group(1), errors='coerce')\n",
    "    if year < 20:\n",
    "        # most likely born in 20**\n",
    "        return year_now - (2000 + year)\n",
    "    else:\n",
    "        # most likely born in 19**\n",
    "        return year_now - (1900 + year)"
   ]
  },
  {
   "cell_type": "code",
   "execution_count": 20,
   "metadata": {
    "collapsed": true
   },
   "outputs": [],
   "source": [
    "athletes_with_countries[\"age\"] = athletes_with_countries.apply(lambda row: get_age_from_dob (row), axis=1)"
   ]
  },
  {
   "cell_type": "code",
   "execution_count": 21,
   "metadata": {},
   "outputs": [
    {
     "data": {
      "text/plain": [
       "sex                 0\n",
       "dob                 0\n",
       "sport               0\n",
       "gold                0\n",
       "silver              0\n",
       "bronze              0\n",
       "country             0\n",
       "medals_won          0\n",
       "age                 0\n",
       "population         83\n",
       "height            325\n",
       "gdp_per_capita    509\n",
       "weight            654\n",
       "dtype: int64"
      ]
     },
     "execution_count": 21,
     "metadata": {},
     "output_type": "execute_result"
    }
   ],
   "source": [
    "athletes_with_countries.isnull().sum().sort_values()"
   ]
  },
  {
   "cell_type": "markdown",
   "metadata": {},
   "source": [
    "След като имам възрастта dob повече не ми трябва."
   ]
  },
  {
   "cell_type": "code",
   "execution_count": 22,
   "metadata": {
    "collapsed": true
   },
   "outputs": [],
   "source": [
    "athletes_with_countries = athletes_with_countries.drop([\"dob\"], axis=1)"
   ]
  },
  {
   "cell_type": "markdown",
   "metadata": {},
   "source": [
    "Да видим кои държави нямат gdp_per_capita. "
   ]
  },
  {
   "cell_type": "code",
   "execution_count": 23,
   "metadata": {},
   "outputs": [
    {
     "data": {
      "text/plain": [
       "array(['Eritrea', 'Iran', 'Cuba', 'Puerto Rico*', 'Libya',\n",
       "       'Palestine, Occupied Territories', 'Venezuela', 'Taiwan',\n",
       "       'San Marino', 'Cook Islands', 'Aruba*', 'British Virgin Islands',\n",
       "       'Syria', 'Guam', 'American Samoa*', 'Monaco', 'Bermuda*',\n",
       "       'Virgin Islands*', 'Korea, North', 'Liechtenstein', 'Andorra',\n",
       "       'Cayman Islands*', 'Mauritania', 'Papua New Guinea'], dtype=object)"
      ]
     },
     "execution_count": 23,
     "metadata": {},
     "output_type": "execute_result"
    }
   ],
   "source": [
    "athletes = athletes_with_countries\n",
    "countries_missing_gdp = athletes[athletes[\"gdp_per_capita\"].isnull()].country.unique()\n",
    "countries_missing_gdp"
   ]
  },
  {
   "cell_type": "markdown",
   "metadata": {},
   "source": [
    "След няколко \"бързи\" google search-a намирам съответните нужни стойности."
   ]
  },
  {
   "cell_type": "code",
   "execution_count": 24,
   "metadata": {
    "collapsed": true
   },
   "outputs": [],
   "source": [
    "country_to_gdp_per_capita = {\"Eritrea\": 582.78, \"Iran\": 4957.58, \"Cuba\": 7602.26,\n",
    "                             \"Puerto Rico*\": 28703.75, \"Libya\": 5602.55, \"Palestine, Occupied Territories\": 1745.90,\n",
    "                             \"Venezuela\": 12237.22, \"Taiwan\": 31900.00, \"San Marino\": 62596.95, \"Cook Islands\": 9100.00,\n",
    "                             \"Aruba*\": 25324.72, \"British Virgin Islands\": 38500.00,\n",
    "                             \"Syria\": 2058.04, \"Guam\": 35439.47, \"American Samoa*\": 11541.85,\n",
    "                             \"Monaco\": 162009.88, \"Bermuda*\": 85748.07, \"Virgin Islands*\": 36350.82,\n",
    "                             \"Korea, North\": 583.00, \"Liechtenstein\": 179478.58, \"Andorra\": 40215.44, \"Cayman Islands*\": 64100.91,\n",
    "                             \"Mauritania\": 1077.56, \"Papua New Guinea\": 2182.72}"
   ]
  },
  {
   "cell_type": "code",
   "execution_count": 25,
   "metadata": {
    "collapsed": true
   },
   "outputs": [],
   "source": [
    "def fill_in_gdp(athletes):\n",
    "    for country in countries_missing_gdp:\n",
    "        athletes.loc[athletes.country == country, \"gdp_per_capita\"] = country_to_gdp_per_capita[country]"
   ]
  },
  {
   "cell_type": "code",
   "execution_count": 26,
   "metadata": {},
   "outputs": [
    {
     "data": {
      "text/plain": [
       "sex                 0\n",
       "sport               0\n",
       "gold                0\n",
       "silver              0\n",
       "bronze              0\n",
       "country             0\n",
       "gdp_per_capita      0\n",
       "medals_won          0\n",
       "age                 0\n",
       "population         83\n",
       "height            325\n",
       "weight            654\n",
       "dtype: int64"
      ]
     },
     "execution_count": 26,
     "metadata": {},
     "output_type": "execute_result"
    }
   ],
   "source": [
    "fill_in_gdp(athletes)\n",
    "athletes.isnull().sum().sort_values()"
   ]
  },
  {
   "cell_type": "markdown",
   "metadata": {},
   "source": [
    "Да поправим липсващите стойности за population"
   ]
  },
  {
   "cell_type": "code",
   "execution_count": 27,
   "metadata": {},
   "outputs": [
    {
     "data": {
      "text/plain": [
       "array(['Eritrea', 'Palestine, Occupied Territories', 'Taiwan',\n",
       "       'Cook Islands'], dtype=object)"
      ]
     },
     "execution_count": 27,
     "metadata": {},
     "output_type": "execute_result"
    }
   ],
   "source": [
    "countries_missing_population = athletes[athletes[\"population\"].isnull()].country.unique()\n",
    "countries_missing_population"
   ]
  },
  {
   "cell_type": "code",
   "execution_count": 28,
   "metadata": {
    "collapsed": true
   },
   "outputs": [],
   "source": [
    "populations_in_millions = {\"Eritrea\": 4.475, \"Palestine, Occupied Territories\": 4.55, \"Taiwan\": 23.55, \"Cook Islands\": 0.017459}"
   ]
  },
  {
   "cell_type": "code",
   "execution_count": 29,
   "metadata": {
    "collapsed": true
   },
   "outputs": [],
   "source": [
    "def fill_in_population(athletes):\n",
    "    for country in countries_missing_population:\n",
    "        athletes.loc[athletes.country == country, \"population\"] = populations_in_millions[country] * 1_000_000"
   ]
  },
  {
   "cell_type": "code",
   "execution_count": 30,
   "metadata": {},
   "outputs": [
    {
     "data": {
      "text/plain": [
       "sex                 0\n",
       "sport               0\n",
       "gold                0\n",
       "silver              0\n",
       "bronze              0\n",
       "country             0\n",
       "population          0\n",
       "gdp_per_capita      0\n",
       "medals_won          0\n",
       "age                 0\n",
       "height            325\n",
       "weight            654\n",
       "dtype: int64"
      ]
     },
     "execution_count": 30,
     "metadata": {},
     "output_type": "execute_result"
    }
   ],
   "source": [
    "fill_in_population(athletes)\n",
    "athletes.isnull().sum().sort_values()"
   ]
  },
  {
   "cell_type": "markdown",
   "metadata": {},
   "source": [
    "Останаха height и weight"
   ]
  },
  {
   "cell_type": "code",
   "execution_count": 31,
   "metadata": {},
   "outputs": [
    {
     "data": {
      "text/plain": [
       "<matplotlib.axes._subplots.AxesSubplot at 0x7f8db05197f0>"
      ]
     },
     "execution_count": 31,
     "metadata": {},
     "output_type": "execute_result"
    },
    {
     "data": {
      "image/png": "[encoded data removed]",
      "text/plain": [
       "<matplotlib.figure.Figure at 0x7f8def010fd0>"
      ]
     },
     "metadata": {},
     "output_type": "display_data"
    }
   ],
   "source": [
    "y = list(athletes.groupby(\"country\")[\"height\"].mean())\n",
    "x = list(range(len(y)))\n",
    "sns.barplot(x=x, y=y)"
   ]
  },
  {
   "cell_type": "markdown",
   "metadata": {},
   "source": [
    "Вижда се, че за всяка държава средното за височината е различно. Това е логично, все пак в една държава хората има по-сходни гени от колкото гените на хора от различни държави.\n",
    "Затова всеки спортист, който няма height попълвам със средното за държавата му, за съответния пол."
   ]
  },
  {
   "cell_type": "code",
   "execution_count": 32,
   "metadata": {},
   "outputs": [
    {
     "data": {
      "text/plain": [
       "sex                 0\n",
       "sport               0\n",
       "gold                0\n",
       "silver              0\n",
       "bronze              0\n",
       "country             0\n",
       "population          0\n",
       "gdp_per_capita      0\n",
       "medals_won          0\n",
       "age                 0\n",
       "height             43\n",
       "weight            654\n",
       "dtype: int64"
      ]
     },
     "execution_count": 32,
     "metadata": {},
     "output_type": "execute_result"
    }
   ],
   "source": [
    "athletes[athletes.height.isnull()]\n",
    "athletes[\"height\"] = athletes.groupby([\"country\", \"sex\"])['height'].transform(lambda x: x.fillna(x.mean()))\n",
    "athletes.isnull().sum().sort_values()"
   ]
  },
  {
   "cell_type": "markdown",
   "metadata": {},
   "source": [
    "Оказва се, че още има непопълнени. Явно има държави за които нито един спортист няма попълнен height. Малко са, попълвам ги със общото средно."
   ]
  },
  {
   "cell_type": "code",
   "execution_count": 33,
   "metadata": {},
   "outputs": [
    {
     "data": {
      "text/plain": [
       "sex                 0\n",
       "height              0\n",
       "sport               0\n",
       "gold                0\n",
       "silver              0\n",
       "bronze              0\n",
       "country             0\n",
       "population          0\n",
       "gdp_per_capita      0\n",
       "medals_won          0\n",
       "age                 0\n",
       "weight            654\n",
       "dtype: int64"
      ]
     },
     "execution_count": 33,
     "metadata": {},
     "output_type": "execute_result"
    }
   ],
   "source": [
    "athletes[\"height\"] = athletes.height.fillna(athletes.height.mean())\n",
    "athletes.isnull().sum().sort_values()"
   ]
  },
  {
   "cell_type": "markdown",
   "metadata": {},
   "source": [
    "Остана weight. Логично е да предположим, че хората с един и същ ръст и практикуващи един и същ спорт ще имат подобно тегло."
   ]
  },
  {
   "cell_type": "code",
   "execution_count": 34,
   "metadata": {},
   "outputs": [
    {
     "data": {
      "text/plain": [
       "sex                 0\n",
       "height              0\n",
       "sport               0\n",
       "gold                0\n",
       "silver              0\n",
       "bronze              0\n",
       "country             0\n",
       "population          0\n",
       "gdp_per_capita      0\n",
       "medals_won          0\n",
       "age                 0\n",
       "weight            447\n",
       "dtype: int64"
      ]
     },
     "execution_count": 34,
     "metadata": {},
     "output_type": "execute_result"
    }
   ],
   "source": [
    "athletes[\"weight\"] =  athletes.groupby([\"sport\", \"height\"])['weight'].transform(lambda x: x.fillna(x.mean()))\n",
    "athletes.isnull().sum().sort_values()"
   ]
  },
  {
   "cell_type": "markdown",
   "metadata": {},
   "source": [
    "Явно повечето групи са с празни стойности за weight.\n",
    "В такъв случай групирам само по спорт. По - слабото предположение е че хората от един и същ спорт имат подобно тегло."
   ]
  },
  {
   "cell_type": "code",
   "execution_count": 35,
   "metadata": {},
   "outputs": [
    {
     "data": {
      "text/plain": [
       "sex                 0\n",
       "height              0\n",
       "sport               0\n",
       "gold                0\n",
       "silver              0\n",
       "bronze              0\n",
       "country             0\n",
       "population          0\n",
       "gdp_per_capita      0\n",
       "medals_won          0\n",
       "age                 0\n",
       "weight            286\n",
       "dtype: int64"
      ]
     },
     "execution_count": 35,
     "metadata": {},
     "output_type": "execute_result"
    }
   ],
   "source": [
    "athletes[\"weight\"] =  athletes.groupby([\"sport\"])['weight'].transform(lambda x: x.fillna(x.mean()))\n",
    "athletes.isnull().sum().sort_values()"
   ]
  },
  {
   "cell_type": "markdown",
   "metadata": {},
   "source": [
    "Има още 286 спортиста без тегло, да видим кои са те."
   ]
  },
  {
   "cell_type": "code",
   "execution_count": 36,
   "metadata": {},
   "outputs": [
    {
     "name": "stdout",
     "output_type": "stream",
     "text": [
      "['boxing']\n",
      "(36, 12)\n",
      "(250, 12)\n"
     ]
    }
   ],
   "source": [
    "print(athletes[athletes.weight.isnull()].sport.unique())\n",
    "print(athletes[(athletes.sport == \"boxing\") & (athletes.sex == \"female\")].shape)\n",
    "print(athletes[(athletes.sport == \"boxing\") & (athletes.sex == \"male\")].shape)"
   ]
  },
  {
   "cell_type": "markdown",
   "metadata": {},
   "source": [
    "Изглежда нито един боксьор няма въведено тегло"
   ]
  },
  {
   "cell_type": "markdown",
   "metadata": {},
   "source": [
    "На базата на броя боксьори участвали на олимпиадата и броя боксови категории за мъже и предполагайки равен брой боксьори \n",
    "във всяка категория оценявам средното тегло на един мъж боксьор на 69.7. Аналогично за жени - 62."
   ]
  },
  {
   "cell_type": "code",
   "execution_count": 37,
   "metadata": {
    "collapsed": true
   },
   "outputs": [],
   "source": [
    "athletes.loc[(athletes.sport == \"boxing\") & (athletes.sex == \"male\"), \"weight\"] = 69.7\n",
    "athletes.loc[(athletes.sport == \"boxing\") & (athletes.sex == \"female\"), \"weight\"] = 62"
   ]
  },
  {
   "cell_type": "code",
   "execution_count": 38,
   "metadata": {},
   "outputs": [
    {
     "data": {
      "text/plain": [
       "sex               0\n",
       "height            0\n",
       "weight            0\n",
       "sport             0\n",
       "gold              0\n",
       "silver            0\n",
       "bronze            0\n",
       "country           0\n",
       "population        0\n",
       "gdp_per_capita    0\n",
       "medals_won        0\n",
       "age               0\n",
       "dtype: int64"
      ]
     },
     "execution_count": 38,
     "metadata": {},
     "output_type": "execute_result"
    }
   ],
   "source": [
    "athletes.isnull().sum().sort_values()"
   ]
  },
  {
   "cell_type": "markdown",
   "metadata": {},
   "source": [
    "Най-сетне няма повече празни стойности. Сега трябва да кодирам категорийните данни."
   ]
  },
  {
   "cell_type": "code",
   "execution_count": 39,
   "metadata": {
    "collapsed": true
   },
   "outputs": [],
   "source": [
    "athletes_encoded = pd.get_dummies(athletes)"
   ]
  },
  {
   "cell_type": "markdown",
   "metadata": {},
   "source": [
    "Махам броя медали по отделно, защото вече въведох колона за сбора им."
   ]
  },
  {
   "cell_type": "code",
   "execution_count": 40,
   "metadata": {
    "collapsed": true
   },
   "outputs": [],
   "source": [
    "athletes_encoded = athletes_encoded.drop([\"gold\", \"silver\", \"bronze\"], axis=1)"
   ]
  },
  {
   "cell_type": "markdown",
   "metadata": {},
   "source": [
    "Да видим как изглежда разпределението на спечелените медали."
   ]
  },
  {
   "cell_type": "code",
   "execution_count": 41,
   "metadata": {},
   "outputs": [
    {
     "data": {
      "text/plain": [
       "<matplotlib.axes._subplots.AxesSubplot at 0x7f8da898bef0>"
      ]
     },
     "execution_count": 41,
     "metadata": {},
     "output_type": "execute_result"
    },
    {
     "data": {
      "image/png": "[encoded data removed]",
      "text/plain": [
       "<matplotlib.figure.Figure at 0x7f8db0519a58>"
      ]
     },
     "metadata": {},
     "output_type": "display_data"
    }
   ],
   "source": [
    "athletes_encoded[\"medals_won\"].hist()"
   ]
  },
  {
   "cell_type": "markdown",
   "metadata": {},
   "source": [
    "Както се очаква повечето не са спечелили нито един медал, от тези с медал най-много са спечелили един."
   ]
  },
  {
   "cell_type": "code",
   "execution_count": 42,
   "metadata": {},
   "outputs": [
    {
     "name": "stdout",
     "output_type": "stream",
     "text": [
      "9645 athletes won 0 medals\n",
      "1725 athletes won 1 medals\n",
      "103 athletes won 2 medals\n",
      "17 athletes won 3 medals\n",
      "6 athletes won 4 medals\n",
      "2 athletes won 5 medals\n",
      "1 athletes won 6 medals\n"
     ]
    }
   ],
   "source": [
    "for i in range(7):\n",
    "    print(\"{0} athletes won {1} medals\".format((athletes_encoded[\"medals_won\"]==i).sum(), i))"
   ]
  },
  {
   "cell_type": "markdown",
   "metadata": {},
   "source": [
    "Най-сетне да тренирам модел!!! Започвам с линейна регресия.\n",
    "\n",
    "Тъй като разпределението на медалите е толкова неравномерно трябва да се използва stratify при train_test_split. Понеже има само един атлет със 6 спечелени медал train_test_split хвърля exception, затова този атлет го махам."
   ]
  },
  {
   "cell_type": "code",
   "execution_count": 44,
   "metadata": {
    "collapsed": true
   },
   "outputs": [],
   "source": [
    "from sklearn.linear_model import LinearRegression \n",
    "from sklearn.model_selection import train_test_split\n",
    "under_achieving_athletes = athletes_encoded[athletes_encoded.medals_won < 6]\n",
    "athletes_y = under_achieving_athletes[\"medals_won\"]\n",
    "athletes_x = under_achieving_athletes.drop([\"medals_won\"], axis=1)\n",
    "x_train, x_test, y_train, y_test = train_test_split(athletes_x, \n",
    "                                                    athletes_y,\n",
    "                                                    stratify=athletes_y,\n",
    "                                                    test_size=0.2, \n",
    "                                                    random_state=12313)"
   ]
  },
  {
   "cell_type": "code",
   "execution_count": 45,
   "metadata": {},
   "outputs": [
    {
     "data": {
      "text/plain": [
       "LinearRegression(copy_X=True, fit_intercept=True, n_jobs=1, normalize=False)"
      ]
     },
     "execution_count": 45,
     "metadata": {},
     "output_type": "execute_result"
    }
   ],
   "source": [
    "regressor = LinearRegression()\n",
    "regressor.fit(x_train, y_train)"
   ]
  },
  {
   "cell_type": "code",
   "execution_count": 46,
   "metadata": {},
   "outputs": [
    {
     "name": "stdout",
     "output_type": "stream",
     "text": [
      "train score: 0.122235477664\n",
      "test score:  0.0965839096914\n"
     ]
    }
   ],
   "source": [
    "print(\"train score:\", regressor.score(x_train, y_train))\n",
    "print(\"test score: \", regressor.score(x_test, y_test))"
   ]
  },
  {
   "cell_type": "markdown",
   "metadata": {},
   "source": [
    "Явно няма линейна зависимост между данните (duh...).\n",
    "Да пробваме с класификационни дръвца."
   ]
  },
  {
   "cell_type": "code",
   "execution_count": 47,
   "metadata": {
    "collapsed": true
   },
   "outputs": [],
   "source": [
    "from sklearn.ensemble import RandomForestClassifier\n",
    "from sklearn.metrics import classification_report\n",
    "classifier = RandomForestClassifier(random_state=4222).fit(x_train, y_train)"
   ]
  },
  {
   "cell_type": "code",
   "execution_count": 48,
   "metadata": {},
   "outputs": [
    {
     "name": "stdout",
     "output_type": "stream",
     "text": [
      "train score: 0.988584474886\n",
      "test score:  0.878695652174\n"
     ]
    }
   ],
   "source": [
    "print(\"train score:\", classifier.score(x_train, y_train))\n",
    "print(\"test score: \", classifier.score(x_test, y_test))"
   ]
  },
  {
   "cell_type": "markdown",
   "metadata": {},
   "source": [
    "Има доста сериозен овърфитинг. Също тест скора изглежда приличен, но тъй като дейтасета не е балансиран и преобладават атлетите с 0 спечелени медала, то ако винаги казваме 0 спечелени ще има успеваемост:"
   ]
  },
  {
   "cell_type": "code",
   "execution_count": 49,
   "metadata": {},
   "outputs": [
    {
     "data": {
      "text/plain": [
       "0.8387685885729194"
      ]
     },
     "execution_count": 49,
     "metadata": {},
     "output_type": "execute_result"
    }
   ],
   "source": [
    "1 - athletes_encoded[athletes_encoded.medals_won > 0].shape[0] / athletes_encoded.shape[0] "
   ]
  },
  {
   "cell_type": "markdown",
   "metadata": {},
   "source": [
    "Тоест подобрението е около 4%. Все пак модела овърфитва, да направим GridSearch."
   ]
  },
  {
   "cell_type": "code",
   "execution_count": 50,
   "metadata": {},
   "outputs": [
    {
     "name": "stderr",
     "output_type": "stream",
     "text": [
      "/home/thalvadzhiev/anaconda3/envs/py36/lib/python3.6/site-packages/sklearn/model_selection/_split.py:605: Warning: The least populated class in y has only 2 members, which is too few. The minimum number of members in any class cannot be less than n_splits=3.\n",
      "  % (min_groups, self.n_splits)), Warning)\n"
     ]
    },
    {
     "name": "stdout",
     "output_type": "stream",
     "text": [
      "{'max_depth': 70, 'n_estimators': 300}\n"
     ]
    },
    {
     "name": "stderr",
     "output_type": "stream",
     "text": [
      "/home/thalvadzhiev/anaconda3/envs/py36/lib/python3.6/site-packages/sklearn/utils/deprecation.py:122: FutureWarning: You are accessing a training score ('mean_train_score'), which will not be available by default any more in 0.21. If you need training scores, please set return_train_score=True\n",
      "  warnings.warn(*warn_args, **warn_kwargs)\n",
      "/home/thalvadzhiev/anaconda3/envs/py36/lib/python3.6/site-packages/sklearn/utils/deprecation.py:122: FutureWarning: You are accessing a training score ('split0_train_score'), which will not be available by default any more in 0.21. If you need training scores, please set return_train_score=True\n",
      "  warnings.warn(*warn_args, **warn_kwargs)\n",
      "/home/thalvadzhiev/anaconda3/envs/py36/lib/python3.6/site-packages/sklearn/utils/deprecation.py:122: FutureWarning: You are accessing a training score ('split1_train_score'), which will not be available by default any more in 0.21. If you need training scores, please set return_train_score=True\n",
      "  warnings.warn(*warn_args, **warn_kwargs)\n",
      "/home/thalvadzhiev/anaconda3/envs/py36/lib/python3.6/site-packages/sklearn/utils/deprecation.py:122: FutureWarning: You are accessing a training score ('split2_train_score'), which will not be available by default any more in 0.21. If you need training scores, please set return_train_score=True\n",
      "  warnings.warn(*warn_args, **warn_kwargs)\n",
      "/home/thalvadzhiev/anaconda3/envs/py36/lib/python3.6/site-packages/sklearn/utils/deprecation.py:122: FutureWarning: You are accessing a training score ('std_train_score'), which will not be available by default any more in 0.21. If you need training scores, please set return_train_score=True\n",
      "  warnings.warn(*warn_args, **warn_kwargs)\n"
     ]
    },
    {
     "data": {
      "text/html": [
       "<div>\n",
       "<style>\n",
       "    .dataframe thead tr:only-child th {\n",
       "        text-align: right;\n",
       "    }\n",
       "\n",
       "    .dataframe thead th {\n",
       "        text-align: left;\n",
       "    }\n",
       "\n",
       "    .dataframe tbody tr th {\n",
       "        vertical-align: top;\n",
       "    }\n",
       "</style>\n",
       "<table border=\"1\" class=\"dataframe\">\n",
       "  <thead>\n",
       "    <tr style=\"text-align: right;\">\n",
       "      <th></th>\n",
       "      <th>rank_test_score</th>\n",
       "      <th>mean_test_score</th>\n",
       "      <th>params</th>\n",
       "    </tr>\n",
       "  </thead>\n",
       "  <tbody>\n",
       "    <tr>\n",
       "      <th>41</th>\n",
       "      <td>1</td>\n",
       "      <td>0.883197</td>\n",
       "      <td>{'max_depth': 70, 'n_estimators': 300}</td>\n",
       "    </tr>\n",
       "    <tr>\n",
       "      <th>35</th>\n",
       "      <td>2</td>\n",
       "      <td>0.882588</td>\n",
       "      <td>{'max_depth': 60, 'n_estimators': 300}</td>\n",
       "    </tr>\n",
       "    <tr>\n",
       "      <th>29</th>\n",
       "      <td>3</td>\n",
       "      <td>0.882414</td>\n",
       "      <td>{'max_depth': 50, 'n_estimators': 300}</td>\n",
       "    </tr>\n",
       "    <tr>\n",
       "      <th>34</th>\n",
       "      <td>4</td>\n",
       "      <td>0.882240</td>\n",
       "      <td>{'max_depth': 60, 'n_estimators': 200}</td>\n",
       "    </tr>\n",
       "    <tr>\n",
       "      <th>39</th>\n",
       "      <td>5</td>\n",
       "      <td>0.881893</td>\n",
       "      <td>{'max_depth': 70, 'n_estimators': 100}</td>\n",
       "    </tr>\n",
       "    <tr>\n",
       "      <th>33</th>\n",
       "      <td>6</td>\n",
       "      <td>0.881806</td>\n",
       "      <td>{'max_depth': 60, 'n_estimators': 100}</td>\n",
       "    </tr>\n",
       "    <tr>\n",
       "      <th>40</th>\n",
       "      <td>7</td>\n",
       "      <td>0.881632</td>\n",
       "      <td>{'max_depth': 70, 'n_estimators': 200}</td>\n",
       "    </tr>\n",
       "    <tr>\n",
       "      <th>27</th>\n",
       "      <td>8</td>\n",
       "      <td>0.881284</td>\n",
       "      <td>{'max_depth': 50, 'n_estimators': 100}</td>\n",
       "    </tr>\n",
       "    <tr>\n",
       "      <th>28</th>\n",
       "      <td>9</td>\n",
       "      <td>0.881197</td>\n",
       "      <td>{'max_depth': 50, 'n_estimators': 200}</td>\n",
       "    </tr>\n",
       "    <tr>\n",
       "      <th>26</th>\n",
       "      <td>10</td>\n",
       "      <td>0.881023</td>\n",
       "      <td>{'max_depth': 50, 'n_estimators': 50}</td>\n",
       "    </tr>\n",
       "  </tbody>\n",
       "</table>\n",
       "</div>"
      ],
      "text/plain": [
       "    rank_test_score  mean_test_score                                  params\n",
       "41                1         0.883197  {'max_depth': 70, 'n_estimators': 300}\n",
       "35                2         0.882588  {'max_depth': 60, 'n_estimators': 300}\n",
       "29                3         0.882414  {'max_depth': 50, 'n_estimators': 300}\n",
       "34                4         0.882240  {'max_depth': 60, 'n_estimators': 200}\n",
       "39                5         0.881893  {'max_depth': 70, 'n_estimators': 100}\n",
       "33                6         0.881806  {'max_depth': 60, 'n_estimators': 100}\n",
       "40                7         0.881632  {'max_depth': 70, 'n_estimators': 200}\n",
       "27                8         0.881284  {'max_depth': 50, 'n_estimators': 100}\n",
       "28                9         0.881197  {'max_depth': 50, 'n_estimators': 200}\n",
       "26               10         0.881023   {'max_depth': 50, 'n_estimators': 50}"
      ]
     },
     "execution_count": 50,
     "metadata": {},
     "output_type": "execute_result"
    }
   ],
   "source": [
    "from sklearn.model_selection import GridSearchCV\n",
    "import sklearn.model_selection as ms\n",
    "search = GridSearchCV(RandomForestClassifier( random_state=12313), {'max_depth': [10, 20, 30, 40, 50, 60, 70],\n",
    "                                                                   'n_estimators': [10, 20, 50, 100, 200, 300]}, cv=ms.StratifiedKFold(shuffle = True))\n",
    "search.fit(athletes_x, athletes_y)\n",
    "print(search.best_params_)\n",
    "pd.DataFrame(search.cv_results_)[['rank_test_score', 'mean_test_score', 'params']].sort_values(by='rank_test_score').head(10)"
   ]
  },
  {
   "cell_type": "markdown",
   "metadata": {},
   "source": [
    "Няма много подобрение. Все пак да видим какви резултати се получават с \"оптималните\" параметри."
   ]
  },
  {
   "cell_type": "code",
   "execution_count": 51,
   "metadata": {
    "collapsed": true
   },
   "outputs": [],
   "source": [
    "classifier = RandomForestClassifier(random_state=4222, max_depth=70, n_estimators=300).fit(x_train, y_train)"
   ]
  },
  {
   "cell_type": "code",
   "execution_count": 52,
   "metadata": {},
   "outputs": [
    {
     "name": "stdout",
     "output_type": "stream",
     "text": [
      "train score: 0.999782561426\n",
      "test score:  0.886956521739\n"
     ]
    }
   ],
   "source": [
    "print(\"train score:\", classifier.score(x_train, y_train))\n",
    "print(\"test score: \", classifier.score(x_test, y_test))"
   ]
  },
  {
   "cell_type": "markdown",
   "metadata": {},
   "source": [
    "Еха, оценката се подобри с половин-един процент!"
   ]
  },
  {
   "cell_type": "code",
   "execution_count": 53,
   "metadata": {},
   "outputs": [
    {
     "data": {
      "image/png": "[encoded data removed]",
      "text/plain": [
       "<matplotlib.figure.Figure at 0x7f8da8431f60>"
      ]
     },
     "metadata": {},
     "output_type": "display_data"
    }
   ],
   "source": [
    "y = classifier.feature_importances_\n",
    "x = list(range(len(y)))\n",
    "fig, ax = plt.subplots(figsize=(15,10))\n",
    "ax =sns.barplot(x=x, y=y, ax=ax)"
   ]
  },
  {
   "cell_type": "markdown",
   "metadata": {},
   "source": [
    "Повечето от feature-ите не допринасят особено. Да видим кои са най-важните."
   ]
  },
  {
   "cell_type": "code",
   "execution_count": 54,
   "metadata": {},
   "outputs": [
    {
     "data": {
      "text/plain": [
       "[(0.16426003549667714, 'weight'),\n",
       " (0.16357141022131069, 'height'),\n",
       " (0.14226797317539147, 'age'),\n",
       " (0.056289184533005437, 'gdp_per_capita'),\n",
       " (0.056090171379724649, 'population'),\n",
       " (0.018139735301157645, 'sport_aquatics'),\n",
       " (0.016750929081490878, 'sex_female'),\n",
       " (0.016523518255642897, 'sex_male'),\n",
       " (0.016468891662820711, 'sport_athletics'),\n",
       " (0.015284763702939555, 'sport_football'),\n",
       " (0.014468550586775271, 'sport_hockey'),\n",
       " (0.013779142209594933, 'sport_handball'),\n",
       " (0.011992542182539935, 'sport_rugby sevens'),\n",
       " (0.011771494095833826, 'sport_rowing'),\n",
       " (0.01041417229844438, 'country_United States'),\n",
       " (0.009975874471312908, 'sport_volleyball'),\n",
       " (0.0098802346755308117, 'sport_basketball'),\n",
       " (0.009379317791724703, 'country_Serbia'),\n",
       " (0.0088341395106450189, 'sport_cycling'),\n",
       " (0.008158004933624223, 'country_Germany'),\n",
       " (0.0081567513556121754, 'sport_judo'),\n",
       " (0.0081084242289532656, 'sport_sailing'),\n",
       " (0.008001828220884662, 'sport_canoe'),\n",
       " (0.0075323303983066388, 'country_Russia'),\n",
       " (0.0074914124531205465, 'sport_wrestling'),\n",
       " (0.0071029171693481807, 'sport_fencing'),\n",
       " (0.0066233438599591606, 'sport_shooting'),\n",
       " (0.0062338095798095986, 'sport_gymnastics'),\n",
       " (0.0060995245653046957, 'sport_boxing'),\n",
       " (0.0055324220137060931, 'country_United Kingdom'),\n",
       " (0.0053052115023467638, 'sport_equestrian'),\n",
       " (0.0052801781044008013, 'sport_taekwondo'),\n",
       " (0.0050762613054054157, 'sport_weightlifting'),\n",
       " (0.0047670353860414958, 'sport_tennis'),\n",
       " (0.0046055199675791459, 'country_France'),\n",
       " (0.0045920487612617581, 'sport_table tennis'),\n",
       " (0.0044744937128111595, 'country_Spain'),\n",
       " (0.0043225768746706856, 'sport_archery'),\n",
       " (0.0043004423005839447, 'country_Canada'),\n",
       " (0.0042361920796274407, 'country_Australia'),\n",
       " (0.0042018801665875656, 'country_Brazil'),\n",
       " (0.0041092237398888268, 'sport_badminton'),\n",
       " (0.0036310418942983673, 'country_Denmark'),\n",
       " (0.0035232533529445391, 'country_Croatia'),\n",
       " (0.0035193671827038263, 'country_China'),\n",
       " (0.0034684133201117666, 'country_Japan'),\n",
       " (0.0034134367796772938, 'country_Italy'),\n",
       " (0.0032917974503945588, 'country_New Zealand'),\n",
       " (0.0030099547885376024, 'country_Jamaica'),\n",
       " (0.0029824938094123042, 'country_Netherlands'),\n",
       " (0.00262020297271739, 'sport_modern pentathlon'),\n",
       " (0.0025615290948336439, 'sport_golf'),\n",
       " (0.0024889507835242591, 'country_Norway'),\n",
       " (0.0024741644468048479, 'country_Belgium'),\n",
       " (0.0024616786991158344, 'country_Sweden'),\n",
       " (0.0022873100866332595, 'country_Azerbaijan'),\n",
       " (0.0022024309827948447, 'country_Poland'),\n",
       " (0.002185343878747424, 'country_Argentina'),\n",
       " (0.0020647913024850108, 'country_Kazakhstan'),\n",
       " (0.0020268200651178134, 'country_Romania'),\n",
       " (0.001946799734670699, 'country_South Africa'),\n",
       " (0.001898883652657748, 'country_Nigeria'),\n",
       " (0.0018771058795899324, 'sport_triathlon'),\n",
       " (0.0018494613660949182, 'country_Korea, South'),\n",
       " (0.0018215128848084179, 'country_Fiji'),\n",
       " (0.0017092830720201321, 'country_Belarus'),\n",
       " (0.0016379112753230523, 'country_Hungary'),\n",
       " (0.0014385335077900386, 'country_Kenya'),\n",
       " (0.0014267370249043385, 'country_Czech Republic'),\n",
       " (0.001388329901785183, 'country_Mexico'),\n",
       " (0.001254883161305873, 'country_Cuba'),\n",
       " (0.0011926921260285194, 'country_Ukraine'),\n",
       " (0.0011887538709791916, 'country_Egypt'),\n",
       " (0.0011400659632076105, 'country_Turkey'),\n",
       " (0.0011051029066417226, 'country_Colombia'),\n",
       " (0.0011046414682375778, 'country_Malaysia'),\n",
       " (0.001048609548153306, 'country_Korea, North'),\n",
       " (0.0010124967456168236, 'country_Switzerland'),\n",
       " (0.00099889459319765219, 'country_Greece'),\n",
       " (0.00099334211397353973, 'country_Lithuania'),\n",
       " (0.00096752845001769818, 'country_Bulgaria'),\n",
       " (0.0009574903199911529, 'country_Uzbekistan'),\n",
       " (0.00092463890884922795, 'country_India'),\n",
       " (0.00088121013913969662, 'country_Venezuela'),\n",
       " (0.00087617390883196037, 'country_Slovakia'),\n",
       " (0.00082620055710185382, 'country_Georgia'),\n",
       " (0.00078281220616128956, 'country_Bahamas'),\n",
       " (0.00076169226665642688, 'country_Iran'),\n",
       " (0.00075507760018781193, 'country_Estonia'),\n",
       " (0.0007187569420839784, 'country_Thailand'),\n",
       " (0.00066615430833522787, 'country_Slovenia'),\n",
       " (0.00065219826834792786, 'country_Taiwan'),\n",
       " (0.00064575773100859594, 'country_Ireland'),\n",
       " (0.00062042148614555081, 'country_Austria'),\n",
       " (0.0005652970605828008, 'country_Ethiopia'),\n",
       " (0.00050345845247271948, 'country_Qatar'),\n",
       " (0.00046625248372386268, 'country_Portugal'),\n",
       " (0.00045093003079375518, \"country_Cote d'Ivoire\"),\n",
       " (0.00044295156629215989, 'country_Tunisia'),\n",
       " (0.00041380402675690543, 'country_Israel'),\n",
       " (0.00040799541392364408, 'country_Armenia'),\n",
       " (0.00038853103116077184, 'country_Finland'),\n",
       " (0.00036862745330928925, 'country_Vietnam'),\n",
       " (0.00035910145656007562, 'country_Algeria'),\n",
       " (0.00028764215544898854, 'country_Mongolia'),\n",
       " (0.00027621648253496026, 'country_Jordan'),\n",
       " (0.00027329428067638544, 'country_Puerto Rico*'),\n",
       " (0.00026073076701473187, 'country_Bahrain'),\n",
       " (0.00026059638692684645, 'country_Indonesia'),\n",
       " (0.00025419234807776034, 'country_Trinidad and Tobago'),\n",
       " (0.00024412531453030855, 'country_Moldova'),\n",
       " (0.00023564677604235348, 'country_Montenegro'),\n",
       " (0.00023169664530702143, 'country_Morocco'),\n",
       " (0.00019085065513684845, 'country_Niger'),\n",
       " (0.00018987065047689278, 'country_Hong Kong*'),\n",
       " (0.00017973621921750797, 'country_Philippines'),\n",
       " (0.00016959303523360412, 'country_Burundi'),\n",
       " (0.00016228304311885543, 'country_Chile'),\n",
       " (0.00014382203462879036, 'country_Singapore'),\n",
       " (0.00011097458112338014, 'country_Senegal'),\n",
       " (0.00010687916720918804, 'country_Ecuador'),\n",
       " (9.1771525267802465e-05, 'country_Latvia'),\n",
       " (8.8470682331670669e-05, 'country_Dominican Republic'),\n",
       " (8.6823680116171476e-05, 'country_Peru'),\n",
       " (8.4046572474784999e-05, 'country_Zimbabwe'),\n",
       " (8.2060715468146951e-05, 'country_Cameroon'),\n",
       " (6.1961720141055849e-05, 'country_Honduras'),\n",
       " (5.8795272137551916e-05, 'country_Angola'),\n",
       " (5.8035122036088167e-05, 'country_Iraq'),\n",
       " (5.4878621296446824e-05, 'country_Panama'),\n",
       " (5.1835968347657886e-05, 'country_Kyrgyzstan'),\n",
       " (5.0954235291659224e-05, 'country_Uruguay'),\n",
       " (4.8797581197045854e-05, 'country_Papua New Guinea'),\n",
       " (4.7623281082998932e-05, 'country_Bermuda*'),\n",
       " (4.6564184052025143e-05, 'country_Liechtenstein'),\n",
       " (4.4551994800511208e-05, 'country_Mauritius'),\n",
       " (4.0099242919863285e-05, 'country_Luxembourg'),\n",
       " (3.6148196736272517e-05, 'country_Virgin Islands*'),\n",
       " (3.5627624680570329e-05, 'country_Bangladesh'),\n",
       " (3.4479762203355674e-05, 'country_Saudi Arabia'),\n",
       " (3.4375725483621903e-05, 'country_Gabon'),\n",
       " (3.3420787121299212e-05, 'country_Cook Islands'),\n",
       " (3.2244627964142042e-05, 'country_Tonga'),\n",
       " (3.0490082929450004e-05, 'country_Syria'),\n",
       " (3.034825701298216e-05, 'country_United Arab Emirates'),\n",
       " (2.9477319856435469e-05, 'country_Iceland'),\n",
       " (2.9231158298099636e-05, 'country_Tanzania'),\n",
       " (2.9092887907461926e-05, 'country_Cyprus'),\n",
       " (2.8813422043208158e-05, 'country_Andorra'),\n",
       " (2.8417462759066908e-05, 'country_Turkmenistan'),\n",
       " (2.8230081944391952e-05, 'country_Lebanon'),\n",
       " (2.6650980065440662e-05, 'country_Ghana'),\n",
       " (2.6006634148921236e-05, 'country_Aruba*'),\n",
       " (2.5258341203630831e-05, 'country_Bolivia'),\n",
       " (2.5181920791538176e-05, 'country_Congo, Dem Rep'),\n",
       " (2.4214578989316793e-05, 'country_Guatemala'),\n",
       " (2.3792703854680447e-05, 'country_Pakistan'),\n",
       " (2.3368007329256773e-05, 'country_Libya'),\n",
       " (2.268106940996024e-05, 'country_Samoa'),\n",
       " (2.1940595274312122e-05, 'country_Cayman Islands*'),\n",
       " (2.165550960817543e-05, 'country_Suriname'),\n",
       " (2.1053469840055431e-05, 'country_Seychelles'),\n",
       " (2.0556346436911149e-05, 'country_San Marino'),\n",
       " (2.0445865804436986e-05, 'country_Bosnia and Herzegovina'),\n",
       " (1.9585594902616057e-05, 'country_Cape Verde'),\n",
       " (1.9419454526087349e-05, 'country_Cambodia'),\n",
       " (1.9336926699635444e-05, 'country_Haiti'),\n",
       " (1.8953619536763996e-05, 'country_Madagascar'),\n",
       " (1.8449979310878995e-05, 'country_Paraguay'),\n",
       " (1.7514451113267471e-05, 'country_Uganda'),\n",
       " (1.6948135114849902e-05, 'country_Namibia'),\n",
       " (1.5561037560907708e-05, 'country_Barbados'),\n",
       " (1.5507573222187421e-05, 'country_Guam'),\n",
       " (1.5104928932396152e-05, 'country_Burma'),\n",
       " (1.5075224834120697e-05, 'country_Sri Lanka'),\n",
       " (1.4029984222187234e-05, 'country_Congo'),\n",
       " (1.3928997748101767e-05, 'country_Benin'),\n",
       " (1.3848139905552987e-05, 'country_Guinea-Bissau'),\n",
       " (1.3817051728030928e-05, 'country_Malta'),\n",
       " (1.3560016602817808e-05, 'country_Vanuatu'),\n",
       " (1.307194285198174e-05, 'country_Palau'),\n",
       " (1.2072420085161592e-05, 'country_Albania'),\n",
       " (1.1707002260832363e-05, 'country_Costa Rica'),\n",
       " (1.1517040723495653e-05, 'country_El Salvador'),\n",
       " (1.1475155290596238e-05, 'country_Saint Lucia'),\n",
       " (1.0735219320206952e-05, 'country_Saint Kitts and Nevis'),\n",
       " (1.0731285539906768e-05, 'country_Mozambique'),\n",
       " (1.0199334133023377e-05, 'country_Botswana'),\n",
       " (1.0125426961273037e-05, 'country_Djibouti'),\n",
       " (9.5316529796977692e-06, 'country_Burkina Faso'),\n",
       " (9.4547363988159252e-06, 'country_Tajikistan'),\n",
       " (9.285678118161599e-06, 'country_Nicaragua'),\n",
       " (8.9749069515775763e-06, 'country_Central African Republic'),\n",
       " (8.8451080116018133e-06, 'country_Eritrea'),\n",
       " (8.383230249826276e-06, 'country_Antigua and Barbuda'),\n",
       " (8.3343042786601178e-06, 'country_Togo'),\n",
       " (8.0843300772021372e-06, 'country_Micronesia'),\n",
       " (7.9371701194532741e-06, 'country_Grenada'),\n",
       " (7.784559967923283e-06, 'country_Guyana'),\n",
       " (7.4570184833977313e-06, 'country_Monaco'),\n",
       " (7.3555595380422025e-06, 'country_British Virgin Islands'),\n",
       " (7.2468619247853312e-06, 'country_Mali'),\n",
       " (7.0911500204107122e-06, 'country_Nepal'),\n",
       " (6.9600174665556357e-06, 'country_Palestine, Occupied Territories'),\n",
       " (6.5977572359886447e-06, 'country_Nauru'),\n",
       " (5.8993709170943807e-06, 'country_Rwanda'),\n",
       " (5.6962020537613695e-06, 'country_Guinea'),\n",
       " (5.5519890211472137e-06, 'country_Malawi'),\n",
       " (4.2572008778637349e-06, 'country_Macedonia'),\n",
       " (4.2213176916010966e-06, 'country_Oman'),\n",
       " (3.9341010265662028e-06, 'country_Belize'),\n",
       " (3.8878447715977488e-06, 'country_Gambia'),\n",
       " (3.8762798120731003e-06, 'country_Laos'),\n",
       " (3.7654158471868029e-06, 'country_Sao Tome and Principe'),\n",
       " (3.6334159093228663e-06, 'country_Brunei'),\n",
       " (3.5136005092636324e-06, 'country_American Samoa*'),\n",
       " (3.4535378845931575e-06, 'country_Zambia'),\n",
       " (2.9963726484212516e-06, 'country_Liberia'),\n",
       " (2.9773638771305699e-06, 'country_Chad'),\n",
       " (2.8732598503365117e-06, 'country_East Timor (Timor-Leste)'),\n",
       " (2.8145800805918252e-06, 'country_Saint Vincent and the Grenadines'),\n",
       " (2.7507510621523462e-06, 'country_Lesotho'),\n",
       " (2.4739583434923279e-06, 'country_Maldives'),\n",
       " (2.4091763018067045e-06, 'country_Sierra Leone'),\n",
       " (2.1294528773821971e-06, 'country_Dominica'),\n",
       " (1.8781542850753255e-06, 'country_Sudan'),\n",
       " (1.4337399355312229e-06, 'country_Yemen'),\n",
       " (1.3938345393789875e-06, 'country_Swaziland'),\n",
       " (1.3713022432872404e-06, 'country_Bhutan'),\n",
       " (1.3645464375869545e-06, 'country_Comoros'),\n",
       " (1.3085854306329781e-06, 'country_Afghanistan'),\n",
       " (1.1995611520977963e-06, 'country_Somalia'),\n",
       " (1.1959353335164021e-06, 'country_Equatorial Guinea'),\n",
       " (7.7465571517496127e-07, 'country_Solomon Islands'),\n",
       " (7.4307858016387445e-07, 'country_Mauritania')]"
      ]
     },
     "execution_count": 54,
     "metadata": {},
     "output_type": "execute_result"
    }
   ],
   "source": [
    "feature_importances = sorted(zip(classifier.feature_importances_, athletes_x.columns), key=lambda x: x[0], reverse=True)\n",
    "feature_importances"
   ]
  },
  {
   "cell_type": "markdown",
   "metadata": {},
   "source": [
    "Повечето държави имат почти нулева важност. По големите държави като САЩ, Германия, Русия, обаче оказват стабилно влияние. Може би ще има полза ако се добави feature \"голяма държава\", вместо по един за всяка държава."
   ]
  },
  {
   "cell_type": "code",
   "execution_count": 55,
   "metadata": {},
   "outputs": [
    {
     "data": {
      "text/plain": [
       "['United States',\n",
       " 'Serbia',\n",
       " 'Germany',\n",
       " 'Russia',\n",
       " 'United Kingdom',\n",
       " 'France',\n",
       " 'Spain',\n",
       " 'Canada',\n",
       " 'Australia',\n",
       " 'Brazil']"
      ]
     },
     "execution_count": 55,
     "metadata": {},
     "output_type": "execute_result"
    }
   ],
   "source": [
    "greatest_countries = map(lambda x: x[1].replace(\"country_\", \"\"), filter(lambda x: \"country\" in x[1], feature_importances))\n",
    "greatest_countries = list(greatest_countries)[:10]\n",
    "greatest_countries"
   ]
  },
  {
   "cell_type": "code",
   "execution_count": 56,
   "metadata": {
    "collapsed": true
   },
   "outputs": [],
   "source": [
    "athletes_with_greatness = athletes.copy()\n",
    "athletes_with_greatness[\"is_from_great_country\"] = athletes_with_greatness.country.isin(greatest_countries)"
   ]
  },
  {
   "cell_type": "code",
   "execution_count": 57,
   "metadata": {
    "collapsed": true
   },
   "outputs": [],
   "source": [
    "athletes_with_greatness = athletes_with_greatness.drop([\"country\", \"gold\", \"silver\", \"bronze\"], axis=1)"
   ]
  },
  {
   "cell_type": "code",
   "execution_count": 58,
   "metadata": {
    "collapsed": true
   },
   "outputs": [],
   "source": [
    "athletes_with_greatness = pd.get_dummies(athletes_with_greatness)"
   ]
  },
  {
   "cell_type": "code",
   "execution_count": 59,
   "metadata": {
    "collapsed": true
   },
   "outputs": [],
   "source": [
    "under_achieving_athletes = athletes_with_greatness[athletes_with_greatness.medals_won < 6]\n",
    "athletes_y = under_achieving_athletes[\"medals_won\"]\n",
    "athletes_x = under_achieving_athletes.drop([\"medals_won\"], axis=1)\n",
    "x_train, x_test, y_train, y_test = train_test_split(athletes_x, \n",
    "                                                    athletes_y,\n",
    "                                                    stratify=athletes_y,\n",
    "                                                    test_size=0.2, \n",
    "                                                    random_state=12313)"
   ]
  },
  {
   "cell_type": "code",
   "execution_count": 67,
   "metadata": {
    "collapsed": true
   },
   "outputs": [],
   "source": [
    "classifier = RandomForestClassifier(random_state=4222, max_depth=30, n_estimators=200).fit(x_train, y_train)"
   ]
  },
  {
   "cell_type": "code",
   "execution_count": 68,
   "metadata": {},
   "outputs": [
    {
     "name": "stdout",
     "output_type": "stream",
     "text": [
      "train score: 0.999565122853\n",
      "test score:  0.884782608696\n"
     ]
    }
   ],
   "source": [
    "print(\"train score:\", classifier.score(x_train, y_train))\n",
    "print(\"test score: \", classifier.score(x_test, y_test))"
   ]
  },
  {
   "cell_type": "markdown",
   "metadata": {},
   "source": [
    "Същата работа. Дори малко по зле."
   ]
  },
  {
   "cell_type": "markdown",
   "metadata": {},
   "source": [
    "Да опитаме и с SVC"
   ]
  },
  {
   "cell_type": "code",
   "execution_count": 69,
   "metadata": {},
   "outputs": [
    {
     "data": {
      "text/plain": [
       "SVC(C=1.0, cache_size=200, class_weight=None, coef0=0.0,\n",
       "  decision_function_shape='ovr', degree=3, gamma='auto', kernel='rbf',\n",
       "  max_iter=-1, probability=False, random_state=None, shrinking=True,\n",
       "  tol=0.001, verbose=False)"
      ]
     },
     "execution_count": 69,
     "metadata": {},
     "output_type": "execute_result"
    }
   ],
   "source": [
    "from sklearn.svm import SVC\n",
    "svc_classifier = SVC()\n",
    "svc_classifier.fit(x_train, y_train)"
   ]
  },
  {
   "cell_type": "code",
   "execution_count": 70,
   "metadata": {
    "collapsed": true
   },
   "outputs": [],
   "source": [
    "from sklearn.preprocessing import StandardScaler\n",
    "scaler = StandardScaler().fit(x_train)\n",
    "x_train_scaled = scaler.transform(x_train)\n",
    "x_test_scaled = scaler.transform(x_test)"
   ]
  },
  {
   "cell_type": "code",
   "execution_count": 71,
   "metadata": {},
   "outputs": [
    {
     "name": "stdout",
     "output_type": "stream",
     "text": [
      "train score: 0.83887801696\n",
      "test score:  0.838695652174\n"
     ]
    }
   ],
   "source": [
    "print(\"train score:\", svc_classifier.score(x_train_scaled, y_train))\n",
    "print(\"test score: \", svc_classifier.score(x_test_scaled, y_test))"
   ]
  },
  {
   "cell_type": "markdown",
   "metadata": {},
   "source": [
    "Това е точно резултата, който очакваме ако винаги казваме 0. Нека пробваме и PCA."
   ]
  },
  {
   "cell_type": "code",
   "execution_count": 72,
   "metadata": {},
   "outputs": [
    {
     "data": {
      "text/plain": [
       "SVC(C=400, cache_size=200, class_weight=None, coef0=0.0,\n",
       "  decision_function_shape='ovr', degree=3, gamma='auto', kernel='rbf',\n",
       "  max_iter=-1, probability=False, random_state=None, shrinking=True,\n",
       "  tol=0.001, verbose=False)"
      ]
     },
     "execution_count": 72,
     "metadata": {},
     "output_type": "execute_result"
    }
   ],
   "source": [
    "from sklearn.decomposition import PCA\n",
    "pca = PCA(n_components=10)\n",
    "pca.fit(x_train_scaled)\n",
    "x_pca_train = pca.transform(x_train_scaled)\n",
    "x_pca_test = pca.transform(x_test_scaled)\n",
    "\n",
    "svc_classifier = SVC(C=400)\n",
    "svc_classifier.fit(x_pca_train, y_train)"
   ]
  },
  {
   "cell_type": "code",
   "execution_count": 73,
   "metadata": {},
   "outputs": [
    {
     "name": "stdout",
     "output_type": "stream",
     "text": [
      "train score: 0.901174168297\n",
      "test score:  0.867391304348\n"
     ]
    }
   ],
   "source": [
    "print(\"train score:\", svc_classifier.score(x_pca_train, y_train))\n",
    "print(\"test score: \", svc_classifier.score(x_pca_test, y_test))"
   ]
  },
  {
   "cell_type": "markdown",
   "metadata": {},
   "source": [
    "С известно нагаждане на C и gamma, най-добрия резултат е 86.6%."
   ]
  },
  {
   "cell_type": "markdown",
   "metadata": {},
   "source": [
    "## Втора идея.\n",
    "\n",
    "Дали на базата на другите фийчъри мога да предскажа какъв спорт практикува атлета?\n",
    "При този вариант освен теглото и височината, има шанс държавата да окаже голямо влияние. Различните държави имат различно добри школи в различни спортове. Например Етиопия и Ямайка обикновено имат най-добрите бегачи, Русия и САЩ най-добрите гимнастици и тн."
   ]
  },
  {
   "cell_type": "code",
   "execution_count": 74,
   "metadata": {},
   "outputs": [
    {
     "data": {
      "text/plain": [
       "<matplotlib.axes._subplots.AxesSubplot at 0x7f8da2b2f2e8>"
      ]
     },
     "execution_count": 74,
     "metadata": {},
     "output_type": "execute_result"
    },
    {
     "data": {
      "image/png": "[encoded data removed]",
      "text/plain": [
       "<matplotlib.figure.Figure at 0x7f8da2b21160>"
      ]
     },
     "metadata": {},
     "output_type": "display_data"
    }
   ],
   "source": [
    "fig, ax = plt.subplots(figsize=(10, 10))\n",
    "plt.xticks(rotation=90)\n",
    "sns.countplot(\"sport\", data=athletes, ax=ax)"
   ]
  },
  {
   "cell_type": "code",
   "execution_count": 75,
   "metadata": {},
   "outputs": [
    {
     "data": {
      "text/plain": [
       "array(['athletics', 'aquatics', 'gymnastics'], dtype=object)"
      ]
     },
     "execution_count": 75,
     "metadata": {},
     "output_type": "execute_result"
    }
   ],
   "source": [
    "athletes[athletes.country==\"Jamaica\"].sport.unique()"
   ]
  },
  {
   "cell_type": "markdown",
   "metadata": {},
   "source": [
    "За жалост спортните категории са твърде общи. Атлетиката има над 2300 състезателя в много различни спортове. Например бягане и скачане са в една категория. С други думи идеята, че държавата ще помогне много, няма да се получи особено добре. \n",
    "\n",
    "Да видим все пак какъв резултат ще получим."
   ]
  },
  {
   "cell_type": "code",
   "execution_count": 77,
   "metadata": {
    "collapsed": true
   },
   "outputs": [],
   "source": [
    "athletes_for_sport_y = athletes[\"sport\"]\n",
    "athletes_for_sport_x = pd.get_dummies(athletes.drop([\"sport\", \"gold\", \"silver\", \"bronze\"], axis=1))"
   ]
  },
  {
   "cell_type": "code",
   "execution_count": 78,
   "metadata": {
    "collapsed": true
   },
   "outputs": [],
   "source": [
    "x_train_sport, x_test_sport, y_train_sport, y_test_sport = train_test_split(athletes_for_sport_x, \n",
    "                                                    athletes_for_sport_y,\n",
    "                                                    stratify=athletes_for_sport_y,\n",
    "                                                    test_size=0.2, \n",
    "                                                    random_state=12313)"
   ]
  },
  {
   "cell_type": "code",
   "execution_count": 83,
   "metadata": {},
   "outputs": [],
   "source": [
    "forest_sport = RandomForestClassifier(random_state=4222, max_depth=30, n_estimators=200).fit(x_train_sport, y_train_sport)"
   ]
  },
  {
   "cell_type": "code",
   "execution_count": 84,
   "metadata": {},
   "outputs": [
    {
     "name": "stdout",
     "output_type": "stream",
     "text": [
      "train score: 0.976954016741\n",
      "test score:  0.410434782609\n"
     ]
    }
   ],
   "source": [
    "print(\"train score:\", forest_sport.score(x_train_sport, y_train_sport))\n",
    "print(\"test score: \", forest_sport.score(x_test_sport, y_test_sport))"
   ]
  },
  {
   "cell_type": "markdown",
   "metadata": {},
   "source": [
    "Около 41%. Дали ще подобрим резултата ако премахнем двете много общи категории."
   ]
  },
  {
   "cell_type": "code",
   "execution_count": 85,
   "metadata": {
    "collapsed": true
   },
   "outputs": [],
   "source": [
    "athletes_no_big_clusters = athletes[~((athletes.sport == \"athletics\") | (athletes.sport == \"aquatics\"))]\n",
    "athletes_for_sport_y = athletes_no_big_clusters[\"sport\"]\n",
    "athletes_for_sport_x = pd.get_dummies(athletes_no_big_clusters.drop([\"sport\", \"gold\", \"silver\", \"bronze\"], axis=1))"
   ]
  },
  {
   "cell_type": "code",
   "execution_count": 86,
   "metadata": {
    "collapsed": true
   },
   "outputs": [],
   "source": [
    "x_train_sport, x_test_sport, y_train_sport, y_test_sport = train_test_split(athletes_for_sport_x, \n",
    "                                                    athletes_for_sport_y,\n",
    "                                                    stratify=athletes_for_sport_y,\n",
    "                                                    test_size=0.2, \n",
    "                                                    random_state=12313)"
   ]
  },
  {
   "cell_type": "code",
   "execution_count": 87,
   "metadata": {
    "collapsed": true
   },
   "outputs": [],
   "source": [
    "forest_sport = RandomForestClassifier( random_state=4222, max_depth=30, n_estimators=200).fit(x_train_sport, y_train_sport)"
   ]
  },
  {
   "cell_type": "code",
   "execution_count": 88,
   "metadata": {},
   "outputs": [
    {
     "name": "stdout",
     "output_type": "stream",
     "text": [
      "train score: 0.99805573558\n",
      "test score:  0.385612443292\n"
     ]
    }
   ],
   "source": [
    "print(\"train score:\", forest_sport.score(x_train_sport, y_train_sport))\n",
    "print(\"test score: \", forest_sport.score(x_test_sport, y_test_sport))"
   ]
  },
  {
   "cell_type": "markdown",
   "metadata": {},
   "source": [
    "Не."
   ]
  },
  {
   "cell_type": "code",
   "execution_count": 89,
   "metadata": {},
   "outputs": [
    {
     "data": {
      "text/plain": [
       "[(0.23872609353140015, 'weight'),\n",
       " (0.2110099340332996, 'height'),\n",
       " (0.19359633414807051, 'age'),\n",
       " (0.045345793803859849, 'gdp_per_capita'),\n",
       " (0.043928006726882268, 'medals_won'),\n",
       " (0.04183940447326228, 'population'),\n",
       " (0.013001720549844971, 'sex_female'),\n",
       " (0.012740124078162312, 'sex_male'),\n",
       " (0.004402675007362856, 'country_Sweden'),\n",
       " (0.0043215616833816887, 'country_France')]"
      ]
     },
     "execution_count": 89,
     "metadata": {},
     "output_type": "execute_result"
    }
   ],
   "source": [
    "feature_importances_no_big_clusters = sorted(zip(\n",
    "    forest_sport.feature_importances_, athletes_for_sport_x.columns), key=lambda x: x[0], reverse=True)\n",
    "feature_importances_no_big_clusters[:10]"
   ]
  },
  {
   "cell_type": "markdown",
   "metadata": {},
   "source": [
    "Изглежда за спорта килограмите, височината и възрастта са най-определящи.\n",
    "\n",
    "Остана да пробваме с SVC."
   ]
  },
  {
   "cell_type": "code",
   "execution_count": 90,
   "metadata": {
    "collapsed": true
   },
   "outputs": [],
   "source": [
    "athletes_for_sport_y = athletes[\"sport\"]\n",
    "athletes_for_sport_x = pd.get_dummies(athletes.drop([\"sport\", \"gold\", \"silver\", \"bronze\"], axis=1))\n",
    "x_train_sport, x_test_sport, y_train_sport, y_test_sport = train_test_split(athletes_for_sport_x, \n",
    "                                                    athletes_for_sport_y,\n",
    "                                                    stratify=athletes_for_sport_y,\n",
    "                                                    test_size=0.2, \n",
    "                                                    random_state=12313)\n",
    "scaler_sport = StandardScaler().fit(x_train_sport)\n",
    "x_train_scaled = scaler_sport.transform(x_train_sport)\n",
    "x_test_scaled = scaler_sport.transform(x_test_sport)"
   ]
  },
  {
   "cell_type": "code",
   "execution_count": 91,
   "metadata": {
    "collapsed": true
   },
   "outputs": [],
   "source": [
    "pca = PCA(n_components=15)\n",
    "pca.fit(x_train_scaled)\n",
    "x_pca_train = pca.transform(x_train_scaled)\n",
    "x_pca_test = pca.transform(x_test_scaled)"
   ]
  },
  {
   "cell_type": "code",
   "execution_count": 99,
   "metadata": {},
   "outputs": [
    {
     "data": {
      "text/plain": [
       "SVC(C=400, cache_size=200, class_weight=None, coef0=0.0,\n",
       "  decision_function_shape='ovr', degree=3, gamma=0.01, kernel='rbf',\n",
       "  max_iter=-1, probability=False, random_state=None, shrinking=True,\n",
       "  tol=0.001, verbose=False)"
      ]
     },
     "execution_count": 99,
     "metadata": {},
     "output_type": "execute_result"
    }
   ],
   "source": [
    "svc_classifier = SVC(C=400, gamma=0.01)\n",
    "svc_classifier.fit(x_pca_train, y_train_sport)"
   ]
  },
  {
   "cell_type": "code",
   "execution_count": 100,
   "metadata": {},
   "outputs": [
    {
     "name": "stdout",
     "output_type": "stream",
     "text": [
      "train score: 0.442004565714\n",
      "test score:  0.341304347826\n"
     ]
    }
   ],
   "source": [
    "print(\"train score:\", svc_classifier.score(x_pca_train, y_train_sport))\n",
    "print(\"test score: \", svc_classifier.score(x_pca_test, y_test_sport))"
   ]
  },
  {
   "cell_type": "markdown",
   "metadata": {},
   "source": [
    "Справя се по-зле."
   ]
  },
  {
   "cell_type": "markdown",
   "metadata": {},
   "source": [
    "## В заключение \n",
    "* Дейтасета не съдържа достатъчно параметри на атлетите, за да може да се определи с голяма точност медалите, които ще спечелят.\n",
    "* Дори в някаква степен тези груби характеристики да определят възможността за спечелване на медал, истинската формула за успех най-вероятно е доста по-неочевидна (най-малкото включва фактор генетика и надъханост, макар че се оказва че ако си млад, във форма и от богата държава имаш нелоши шансове :D)\n",
    "* Определянето на спорта има нелоша успеваемост, имайки предвид че има 28 категории (на рандом шанса е 0.03, или 0.15 ако казваме винаги най-често срещания спорт). Ако имаше повече категории(например атлетиката беше разбита на повече спортове) резултата най-вероятно щеше да е по-висок.\n"
   ]
  }
 ],
 "metadata": {
  "kernelspec": {
   "display_name": "Python 3",
   "language": "python",
   "name": "python3"
  },
  "language_info": {
   "codemirror_mode": {
    "name": "ipython",
    "version": 3
   },
   "file_extension": ".py",
   "mimetype": "text/x-python",
   "name": "python",
   "nbconvert_exporter": "python",
   "pygments_lexer": "ipython3",
   "version": "3.6.3"
  }
 },
 "nbformat": 4,
 "nbformat_minor": 2
}
